{
  "cells": [
    {
      "cell_type": "markdown",
      "metadata": {
        "id": "view-in-github",
        "colab_type": "text"
      },
      "source": [
        "<a href=\"https://colab.research.google.com/github/Divyansh-1210/Crime-Article-Recommendation/blob/main/crime_articles_recommendation_system_(1).ipynb\" target=\"_parent\"><img src=\"https://colab.research.google.com/assets/colab-badge.svg\" alt=\"Open In Colab\"/></a>"
      ]
    },
    {
      "cell_type": "code",
      "execution_count": 20,
      "id": "b8dc9f8e",
      "metadata": {
        "_cell_guid": "b1076dfc-b9ad-4769-8c92-a6c4dae69d19",
        "_uuid": "8f2839f25d086af736a60e9eeb907d3b93b6e0e5",
        "execution": {
          "iopub.execute_input": "2022-12-01T10:45:04.735383Z",
          "iopub.status.busy": "2022-12-01T10:45:04.734504Z",
          "iopub.status.idle": "2022-12-01T10:45:06.564862Z",
          "shell.execute_reply": "2022-12-01T10:45:06.563555Z"
        },
        "papermill": {
          "duration": 1.849463,
          "end_time": "2022-12-01T10:45:06.567750",
          "exception": false,
          "start_time": "2022-12-01T10:45:04.718287",
          "status": "completed"
        },
        "tags": [],
        "id": "b8dc9f8e"
      },
      "outputs": [],
      "source": [
        "# This Python 3 environment comes with many helpful analytics libraries installed\n",
        "# It is defined by the kaggle/python Docker image: https://github.com/kaggle/docker-python\n",
        "# For example, here's several helpful packages to load\n",
        "\n",
        "\n",
        "import numpy as np # linear algebra\n",
        "import pandas as pd # data processing, CSV file I/O (e.g. pd.read_csv)\n",
        "import re\n",
        "import nltk\n",
        "import string,time\n",
        "import ast\n",
        "from sklearn.metrics.pairwise import cosine_similarity\n",
        "from textblob import TextBlob\n",
        "from nltk.tokenize import word_tokenize,sent_tokenize\n",
        "# Input data files are available in the read-only \"../input/\" directory\n",
        "# For example, running this (by clicking run or pressing Shift+Enter) will list all files under the input directory\n",
        "\n",
        "\n",
        "\n",
        "# You can write up to 20GB to the current directory (/kaggle/working/) that gets preserved as output when you create a version using \"Save & Run All\"\n",
        "# You can also write temporary files to /kaggle/temp/, but they won't be saved outside of the current session"
      ]
    },
    {
      "cell_type": "code",
      "execution_count": 89,
      "id": "2ce5476a",
      "metadata": {
        "execution": {
          "iopub.execute_input": "2022-12-01T10:45:06.596043Z",
          "iopub.status.busy": "2022-12-01T10:45:06.594859Z",
          "iopub.status.idle": "2022-12-01T10:45:06.755593Z",
          "shell.execute_reply": "2022-12-01T10:45:06.754176Z"
        },
        "papermill": {
          "duration": 0.17724,
          "end_time": "2022-12-01T10:45:06.758085",
          "exception": false,
          "start_time": "2022-12-01T10:45:06.580845",
          "status": "completed"
        },
        "tags": [],
        "colab": {
          "base_uri": "https://localhost:8080/",
          "height": 961
        },
        "id": "2ce5476a",
        "outputId": "3fda90e8-fed7-444d-d7ce-6c10818404cf"
      },
      "outputs": [
        {
          "output_type": "execute_result",
          "data": {
            "text/plain": [
              "                                                heading  \\\n",
              "0      Uttarakhand: Man, 39, held for killing consta...   \n",
              "1      Nashik city: Another theft from parked car, s...   \n",
              "2      Pune: Externed criminal jumps from bus fearin...   \n",
              "3      Gaya woman burned alive on suspicion of witch...   \n",
              "4               Man held on charge of stalking in Pune    \n",
              "...                                                 ...   \n",
              "7612   Mumbai: Borivli businessman duped of Rs 1 lak...   \n",
              "7613   Former New York governor Cuomo accused of gro...   \n",
              "7614   Delhi cop and neighbour injured in shooting; ...   \n",
              "7615   Illegal granite mining in TN: ED tags assets ...   \n",
              "7616   Pramod Sawant asks Goa police to ‘zero down’ ...   \n",
              "\n",
              "                                        content_summary  \\\n",
              "0      Nainital district police on Monday arrested a...   \n",
              "1      Thefts from parked cars continues in the city...   \n",
              "2      An externed criminal died in the early hours ...   \n",
              "3      A middle-aged woman was badly thrashed and bu...   \n",
              "4      A man (33) was arrested on Tuesday from Khed ...   \n",
              "...                                                 ...   \n",
              "7612   A smalltime businessman from Borivli was dupe...   \n",
              "7613   The filing from the Albany County Sheriff's O...   \n",
              "7614   A policeman and his neighbour were shot at by...   \n",
              "7615   The Enforcement directorate (ED) has told the...   \n",
              "7616   Chief minister Pramod Sawant on Friday held a...   \n",
              "\n",
              "                                           article_link  \\\n",
              "0     https://timesofindia.indiatimes.com/city/dehra...   \n",
              "1     https://timesofindia.indiatimes.com/city/nashi...   \n",
              "2     https://timesofindia.indiatimes.com/city/pune/...   \n",
              "3     https://timesofindia.indiatimes.com/city/patna...   \n",
              "4     https://timesofindia.indiatimes.com/city/pune/...   \n",
              "...                                                 ...   \n",
              "7612  https://timesofindia.indiatimes.com/city/mumba...   \n",
              "7613  https://timesofindia.indiatimes.com/world/us/f...   \n",
              "7614  https://timesofindia.indiatimes.com/city/delhi...   \n",
              "7615  https://timesofindia.indiatimes.com/city/chenn...   \n",
              "7616  https://timesofindia.indiatimes.com/city/goa/c...   \n",
              "\n",
              "                                               img_link month_date   time  \\\n",
              "0     https://static.toiimg.com/thumb/imgsize-123456...     Nov 08  09:55   \n",
              "1     https://static.toiimg.com/thumb/imgsize-123456...     Nov 08  08:25   \n",
              "2     https://static.toiimg.com/thumb/imgsize-123456...     Nov 08  05:17   \n",
              "3     https://static.toiimg.com/thumb/imgsize-123456...     Nov 06  05:24   \n",
              "4     https://static.toiimg.com/thumb/imgsize-123456...     Nov 03  08:32   \n",
              "...                                                 ...        ...    ...   \n",
              "7612  https://static.toiimg.com/thumb/imgsize-123456...     Jul 11  14:44   \n",
              "7613  https://static.toiimg.com/thumb/imgsize-123456...     Oct 29  21, 0   \n",
              "7614  https://static.toiimg.com/thumb/imgsize-123456...     Oct 06  10:32   \n",
              "7615  https://static.toiimg.com/thumb/imgsize-123456...     Nov 10  04:39   \n",
              "7616  https://static.toiimg.com/thumb/imgsize-123456...     Oct 24  04:27   \n",
              "\n",
              "      Year  \n",
              "0     2022  \n",
              "1     2022  \n",
              "2     2022  \n",
              "3     2022  \n",
              "4     2022  \n",
              "...    ...  \n",
              "7612  2020  \n",
              "7613   29,  \n",
              "7614  2020  \n",
              "7615  2020  \n",
              "7616  2020  \n",
              "\n",
              "[7617 rows x 7 columns]"
            ],
            "text/html": [
              "\n",
              "  <div id=\"df-d2d5b3a7-7bb3-4892-b8fb-11ce4b07965e\" class=\"colab-df-container\">\n",
              "    <div>\n",
              "<style scoped>\n",
              "    .dataframe tbody tr th:only-of-type {\n",
              "        vertical-align: middle;\n",
              "    }\n",
              "\n",
              "    .dataframe tbody tr th {\n",
              "        vertical-align: top;\n",
              "    }\n",
              "\n",
              "    .dataframe thead th {\n",
              "        text-align: right;\n",
              "    }\n",
              "</style>\n",
              "<table border=\"1\" class=\"dataframe\">\n",
              "  <thead>\n",
              "    <tr style=\"text-align: right;\">\n",
              "      <th></th>\n",
              "      <th>heading</th>\n",
              "      <th>content_summary</th>\n",
              "      <th>article_link</th>\n",
              "      <th>img_link</th>\n",
              "      <th>month_date</th>\n",
              "      <th>time</th>\n",
              "      <th>Year</th>\n",
              "    </tr>\n",
              "  </thead>\n",
              "  <tbody>\n",
              "    <tr>\n",
              "      <th>0</th>\n",
              "      <td>Uttarakhand: Man, 39, held for killing consta...</td>\n",
              "      <td>Nainital district police on Monday arrested a...</td>\n",
              "      <td>https://timesofindia.indiatimes.com/city/dehra...</td>\n",
              "      <td>https://static.toiimg.com/thumb/imgsize-123456...</td>\n",
              "      <td>Nov 08</td>\n",
              "      <td>09:55</td>\n",
              "      <td>2022</td>\n",
              "    </tr>\n",
              "    <tr>\n",
              "      <th>1</th>\n",
              "      <td>Nashik city: Another theft from parked car, s...</td>\n",
              "      <td>Thefts from parked cars continues in the city...</td>\n",
              "      <td>https://timesofindia.indiatimes.com/city/nashi...</td>\n",
              "      <td>https://static.toiimg.com/thumb/imgsize-123456...</td>\n",
              "      <td>Nov 08</td>\n",
              "      <td>08:25</td>\n",
              "      <td>2022</td>\n",
              "    </tr>\n",
              "    <tr>\n",
              "      <th>2</th>\n",
              "      <td>Pune: Externed criminal jumps from bus fearin...</td>\n",
              "      <td>An externed criminal died in the early hours ...</td>\n",
              "      <td>https://timesofindia.indiatimes.com/city/pune/...</td>\n",
              "      <td>https://static.toiimg.com/thumb/imgsize-123456...</td>\n",
              "      <td>Nov 08</td>\n",
              "      <td>05:17</td>\n",
              "      <td>2022</td>\n",
              "    </tr>\n",
              "    <tr>\n",
              "      <th>3</th>\n",
              "      <td>Gaya woman burned alive on suspicion of witch...</td>\n",
              "      <td>A middle-aged woman was badly thrashed and bu...</td>\n",
              "      <td>https://timesofindia.indiatimes.com/city/patna...</td>\n",
              "      <td>https://static.toiimg.com/thumb/imgsize-123456...</td>\n",
              "      <td>Nov 06</td>\n",
              "      <td>05:24</td>\n",
              "      <td>2022</td>\n",
              "    </tr>\n",
              "    <tr>\n",
              "      <th>4</th>\n",
              "      <td>Man held on charge of stalking in Pune</td>\n",
              "      <td>A man (33) was arrested on Tuesday from Khed ...</td>\n",
              "      <td>https://timesofindia.indiatimes.com/city/pune/...</td>\n",
              "      <td>https://static.toiimg.com/thumb/imgsize-123456...</td>\n",
              "      <td>Nov 03</td>\n",
              "      <td>08:32</td>\n",
              "      <td>2022</td>\n",
              "    </tr>\n",
              "    <tr>\n",
              "      <th>...</th>\n",
              "      <td>...</td>\n",
              "      <td>...</td>\n",
              "      <td>...</td>\n",
              "      <td>...</td>\n",
              "      <td>...</td>\n",
              "      <td>...</td>\n",
              "      <td>...</td>\n",
              "    </tr>\n",
              "    <tr>\n",
              "      <th>7612</th>\n",
              "      <td>Mumbai: Borivli businessman duped of Rs 1 lak...</td>\n",
              "      <td>A smalltime businessman from Borivli was dupe...</td>\n",
              "      <td>https://timesofindia.indiatimes.com/city/mumba...</td>\n",
              "      <td>https://static.toiimg.com/thumb/imgsize-123456...</td>\n",
              "      <td>Jul 11</td>\n",
              "      <td>14:44</td>\n",
              "      <td>2020</td>\n",
              "    </tr>\n",
              "    <tr>\n",
              "      <th>7613</th>\n",
              "      <td>Former New York governor Cuomo accused of gro...</td>\n",
              "      <td>The filing from the Albany County Sheriff's O...</td>\n",
              "      <td>https://timesofindia.indiatimes.com/world/us/f...</td>\n",
              "      <td>https://static.toiimg.com/thumb/imgsize-123456...</td>\n",
              "      <td>Oct 29</td>\n",
              "      <td>21, 0</td>\n",
              "      <td>29,</td>\n",
              "    </tr>\n",
              "    <tr>\n",
              "      <th>7614</th>\n",
              "      <td>Delhi cop and neighbour injured in shooting; ...</td>\n",
              "      <td>A policeman and his neighbour were shot at by...</td>\n",
              "      <td>https://timesofindia.indiatimes.com/city/delhi...</td>\n",
              "      <td>https://static.toiimg.com/thumb/imgsize-123456...</td>\n",
              "      <td>Oct 06</td>\n",
              "      <td>10:32</td>\n",
              "      <td>2020</td>\n",
              "    </tr>\n",
              "    <tr>\n",
              "      <th>7615</th>\n",
              "      <td>Illegal granite mining in TN: ED tags assets ...</td>\n",
              "      <td>The Enforcement directorate (ED) has told the...</td>\n",
              "      <td>https://timesofindia.indiatimes.com/city/chenn...</td>\n",
              "      <td>https://static.toiimg.com/thumb/imgsize-123456...</td>\n",
              "      <td>Nov 10</td>\n",
              "      <td>04:39</td>\n",
              "      <td>2020</td>\n",
              "    </tr>\n",
              "    <tr>\n",
              "      <th>7616</th>\n",
              "      <td>Pramod Sawant asks Goa police to ‘zero down’ ...</td>\n",
              "      <td>Chief minister Pramod Sawant on Friday held a...</td>\n",
              "      <td>https://timesofindia.indiatimes.com/city/goa/c...</td>\n",
              "      <td>https://static.toiimg.com/thumb/imgsize-123456...</td>\n",
              "      <td>Oct 24</td>\n",
              "      <td>04:27</td>\n",
              "      <td>2020</td>\n",
              "    </tr>\n",
              "  </tbody>\n",
              "</table>\n",
              "<p>7617 rows × 7 columns</p>\n",
              "</div>\n",
              "    <div class=\"colab-df-buttons\">\n",
              "\n",
              "  <div class=\"colab-df-container\">\n",
              "    <button class=\"colab-df-convert\" onclick=\"convertToInteractive('df-d2d5b3a7-7bb3-4892-b8fb-11ce4b07965e')\"\n",
              "            title=\"Convert this dataframe to an interactive table.\"\n",
              "            style=\"display:none;\">\n",
              "\n",
              "  <svg xmlns=\"http://www.w3.org/2000/svg\" height=\"24px\" viewBox=\"0 -960 960 960\">\n",
              "    <path d=\"M120-120v-720h720v720H120Zm60-500h600v-160H180v160Zm220 220h160v-160H400v160Zm0 220h160v-160H400v160ZM180-400h160v-160H180v160Zm440 0h160v-160H620v160ZM180-180h160v-160H180v160Zm440 0h160v-160H620v160Z\"/>\n",
              "  </svg>\n",
              "    </button>\n",
              "\n",
              "  <style>\n",
              "    .colab-df-container {\n",
              "      display:flex;\n",
              "      gap: 12px;\n",
              "    }\n",
              "\n",
              "    .colab-df-convert {\n",
              "      background-color: #E8F0FE;\n",
              "      border: none;\n",
              "      border-radius: 50%;\n",
              "      cursor: pointer;\n",
              "      display: none;\n",
              "      fill: #1967D2;\n",
              "      height: 32px;\n",
              "      padding: 0 0 0 0;\n",
              "      width: 32px;\n",
              "    }\n",
              "\n",
              "    .colab-df-convert:hover {\n",
              "      background-color: #E2EBFA;\n",
              "      box-shadow: 0px 1px 2px rgba(60, 64, 67, 0.3), 0px 1px 3px 1px rgba(60, 64, 67, 0.15);\n",
              "      fill: #174EA6;\n",
              "    }\n",
              "\n",
              "    .colab-df-buttons div {\n",
              "      margin-bottom: 4px;\n",
              "    }\n",
              "\n",
              "    [theme=dark] .colab-df-convert {\n",
              "      background-color: #3B4455;\n",
              "      fill: #D2E3FC;\n",
              "    }\n",
              "\n",
              "    [theme=dark] .colab-df-convert:hover {\n",
              "      background-color: #434B5C;\n",
              "      box-shadow: 0px 1px 3px 1px rgba(0, 0, 0, 0.15);\n",
              "      filter: drop-shadow(0px 1px 2px rgba(0, 0, 0, 0.3));\n",
              "      fill: #FFFFFF;\n",
              "    }\n",
              "  </style>\n",
              "\n",
              "    <script>\n",
              "      const buttonEl =\n",
              "        document.querySelector('#df-d2d5b3a7-7bb3-4892-b8fb-11ce4b07965e button.colab-df-convert');\n",
              "      buttonEl.style.display =\n",
              "        google.colab.kernel.accessAllowed ? 'block' : 'none';\n",
              "\n",
              "      async function convertToInteractive(key) {\n",
              "        const element = document.querySelector('#df-d2d5b3a7-7bb3-4892-b8fb-11ce4b07965e');\n",
              "        const dataTable =\n",
              "          await google.colab.kernel.invokeFunction('convertToInteractive',\n",
              "                                                    [key], {});\n",
              "        if (!dataTable) return;\n",
              "\n",
              "        const docLinkHtml = 'Like what you see? Visit the ' +\n",
              "          '<a target=\"_blank\" href=https://colab.research.google.com/notebooks/data_table.ipynb>data table notebook</a>'\n",
              "          + ' to learn more about interactive tables.';\n",
              "        element.innerHTML = '';\n",
              "        dataTable['output_type'] = 'display_data';\n",
              "        await google.colab.output.renderOutput(dataTable, element);\n",
              "        const docLink = document.createElement('div');\n",
              "        docLink.innerHTML = docLinkHtml;\n",
              "        element.appendChild(docLink);\n",
              "      }\n",
              "    </script>\n",
              "  </div>\n",
              "\n",
              "\n",
              "    <div id=\"df-0981fdb5-2139-44e3-a363-ea92a06c1ac7\">\n",
              "      <button class=\"colab-df-quickchart\" onclick=\"quickchart('df-0981fdb5-2139-44e3-a363-ea92a06c1ac7')\"\n",
              "                title=\"Suggest charts\"\n",
              "                style=\"display:none;\">\n",
              "\n",
              "<svg xmlns=\"http://www.w3.org/2000/svg\" height=\"24px\"viewBox=\"0 0 24 24\"\n",
              "     width=\"24px\">\n",
              "    <g>\n",
              "        <path d=\"M19 3H5c-1.1 0-2 .9-2 2v14c0 1.1.9 2 2 2h14c1.1 0 2-.9 2-2V5c0-1.1-.9-2-2-2zM9 17H7v-7h2v7zm4 0h-2V7h2v10zm4 0h-2v-4h2v4z\"/>\n",
              "    </g>\n",
              "</svg>\n",
              "      </button>\n",
              "\n",
              "<style>\n",
              "  .colab-df-quickchart {\n",
              "      --bg-color: #E8F0FE;\n",
              "      --fill-color: #1967D2;\n",
              "      --hover-bg-color: #E2EBFA;\n",
              "      --hover-fill-color: #174EA6;\n",
              "      --disabled-fill-color: #AAA;\n",
              "      --disabled-bg-color: #DDD;\n",
              "  }\n",
              "\n",
              "  [theme=dark] .colab-df-quickchart {\n",
              "      --bg-color: #3B4455;\n",
              "      --fill-color: #D2E3FC;\n",
              "      --hover-bg-color: #434B5C;\n",
              "      --hover-fill-color: #FFFFFF;\n",
              "      --disabled-bg-color: #3B4455;\n",
              "      --disabled-fill-color: #666;\n",
              "  }\n",
              "\n",
              "  .colab-df-quickchart {\n",
              "    background-color: var(--bg-color);\n",
              "    border: none;\n",
              "    border-radius: 50%;\n",
              "    cursor: pointer;\n",
              "    display: none;\n",
              "    fill: var(--fill-color);\n",
              "    height: 32px;\n",
              "    padding: 0;\n",
              "    width: 32px;\n",
              "  }\n",
              "\n",
              "  .colab-df-quickchart:hover {\n",
              "    background-color: var(--hover-bg-color);\n",
              "    box-shadow: 0 1px 2px rgba(60, 64, 67, 0.3), 0 1px 3px 1px rgba(60, 64, 67, 0.15);\n",
              "    fill: var(--button-hover-fill-color);\n",
              "  }\n",
              "\n",
              "  .colab-df-quickchart-complete:disabled,\n",
              "  .colab-df-quickchart-complete:disabled:hover {\n",
              "    background-color: var(--disabled-bg-color);\n",
              "    fill: var(--disabled-fill-color);\n",
              "    box-shadow: none;\n",
              "  }\n",
              "\n",
              "  .colab-df-spinner {\n",
              "    border: 2px solid var(--fill-color);\n",
              "    border-color: transparent;\n",
              "    border-bottom-color: var(--fill-color);\n",
              "    animation:\n",
              "      spin 1s steps(1) infinite;\n",
              "  }\n",
              "\n",
              "  @keyframes spin {\n",
              "    0% {\n",
              "      border-color: transparent;\n",
              "      border-bottom-color: var(--fill-color);\n",
              "      border-left-color: var(--fill-color);\n",
              "    }\n",
              "    20% {\n",
              "      border-color: transparent;\n",
              "      border-left-color: var(--fill-color);\n",
              "      border-top-color: var(--fill-color);\n",
              "    }\n",
              "    30% {\n",
              "      border-color: transparent;\n",
              "      border-left-color: var(--fill-color);\n",
              "      border-top-color: var(--fill-color);\n",
              "      border-right-color: var(--fill-color);\n",
              "    }\n",
              "    40% {\n",
              "      border-color: transparent;\n",
              "      border-right-color: var(--fill-color);\n",
              "      border-top-color: var(--fill-color);\n",
              "    }\n",
              "    60% {\n",
              "      border-color: transparent;\n",
              "      border-right-color: var(--fill-color);\n",
              "    }\n",
              "    80% {\n",
              "      border-color: transparent;\n",
              "      border-right-color: var(--fill-color);\n",
              "      border-bottom-color: var(--fill-color);\n",
              "    }\n",
              "    90% {\n",
              "      border-color: transparent;\n",
              "      border-bottom-color: var(--fill-color);\n",
              "    }\n",
              "  }\n",
              "</style>\n",
              "\n",
              "      <script>\n",
              "        async function quickchart(key) {\n",
              "          const quickchartButtonEl =\n",
              "            document.querySelector('#' + key + ' button');\n",
              "          quickchartButtonEl.disabled = true;  // To prevent multiple clicks.\n",
              "          quickchartButtonEl.classList.add('colab-df-spinner');\n",
              "          try {\n",
              "            const charts = await google.colab.kernel.invokeFunction(\n",
              "                'suggestCharts', [key], {});\n",
              "          } catch (error) {\n",
              "            console.error('Error during call to suggestCharts:', error);\n",
              "          }\n",
              "          quickchartButtonEl.classList.remove('colab-df-spinner');\n",
              "          quickchartButtonEl.classList.add('colab-df-quickchart-complete');\n",
              "        }\n",
              "        (() => {\n",
              "          let quickchartButtonEl =\n",
              "            document.querySelector('#df-0981fdb5-2139-44e3-a363-ea92a06c1ac7 button');\n",
              "          quickchartButtonEl.style.display =\n",
              "            google.colab.kernel.accessAllowed ? 'block' : 'none';\n",
              "        })();\n",
              "      </script>\n",
              "    </div>\n",
              "\n",
              "  <div id=\"id_29288bdb-1ccd-4a7c-bd73-9543f0972689\">\n",
              "    <style>\n",
              "      .colab-df-generate {\n",
              "        background-color: #E8F0FE;\n",
              "        border: none;\n",
              "        border-radius: 50%;\n",
              "        cursor: pointer;\n",
              "        display: none;\n",
              "        fill: #1967D2;\n",
              "        height: 32px;\n",
              "        padding: 0 0 0 0;\n",
              "        width: 32px;\n",
              "      }\n",
              "\n",
              "      .colab-df-generate:hover {\n",
              "        background-color: #E2EBFA;\n",
              "        box-shadow: 0px 1px 2px rgba(60, 64, 67, 0.3), 0px 1px 3px 1px rgba(60, 64, 67, 0.15);\n",
              "        fill: #174EA6;\n",
              "      }\n",
              "\n",
              "      [theme=dark] .colab-df-generate {\n",
              "        background-color: #3B4455;\n",
              "        fill: #D2E3FC;\n",
              "      }\n",
              "\n",
              "      [theme=dark] .colab-df-generate:hover {\n",
              "        background-color: #434B5C;\n",
              "        box-shadow: 0px 1px 3px 1px rgba(0, 0, 0, 0.15);\n",
              "        filter: drop-shadow(0px 1px 2px rgba(0, 0, 0, 0.3));\n",
              "        fill: #FFFFFF;\n",
              "      }\n",
              "    </style>\n",
              "    <button class=\"colab-df-generate\" onclick=\"generateWithVariable('df')\"\n",
              "            title=\"Generate code using this dataframe.\"\n",
              "            style=\"display:none;\">\n",
              "\n",
              "  <svg xmlns=\"http://www.w3.org/2000/svg\" height=\"24px\"viewBox=\"0 0 24 24\"\n",
              "       width=\"24px\">\n",
              "    <path d=\"M7,19H8.4L18.45,9,17,7.55,7,17.6ZM5,21V16.75L18.45,3.32a2,2,0,0,1,2.83,0l1.4,1.43a1.91,1.91,0,0,1,.58,1.4,1.91,1.91,0,0,1-.58,1.4L9.25,21ZM18.45,9,17,7.55Zm-12,3A5.31,5.31,0,0,0,4.9,8.1,5.31,5.31,0,0,0,1,6.5,5.31,5.31,0,0,0,4.9,4.9,5.31,5.31,0,0,0,6.5,1,5.31,5.31,0,0,0,8.1,4.9,5.31,5.31,0,0,0,12,6.5,5.46,5.46,0,0,0,6.5,12Z\"/>\n",
              "  </svg>\n",
              "    </button>\n",
              "    <script>\n",
              "      (() => {\n",
              "      const buttonEl =\n",
              "        document.querySelector('#id_29288bdb-1ccd-4a7c-bd73-9543f0972689 button.colab-df-generate');\n",
              "      buttonEl.style.display =\n",
              "        google.colab.kernel.accessAllowed ? 'block' : 'none';\n",
              "\n",
              "      buttonEl.onclick = () => {\n",
              "        google.colab.notebook.generateWithVariable('df');\n",
              "      }\n",
              "      })();\n",
              "    </script>\n",
              "  </div>\n",
              "\n",
              "    </div>\n",
              "  </div>\n"
            ],
            "application/vnd.google.colaboratory.intrinsic+json": {
              "type": "dataframe",
              "variable_name": "df",
              "summary": "{\n  \"name\": \"df\",\n  \"rows\": 7617,\n  \"fields\": [\n    {\n      \"column\": \"heading\",\n      \"properties\": {\n        \"dtype\": \"string\",\n        \"num_unique_values\": 7549,\n        \"samples\": [\n          \" Telugu actor arrested after 400gm drugs seized in Maharashtra \",\n          \" Odisha: Cops hunt for miscreants out to foment trouble \",\n          \" Three held for activist\\u2019s murder \"\n        ],\n        \"semantic_type\": \"\",\n        \"description\": \"\"\n      }\n    },\n    {\n      \"column\": \"content_summary\",\n      \"properties\": {\n        \"dtype\": \"string\",\n        \"num_unique_values\": 6910,\n        \"samples\": [\n          \" A class VII student, who dreamt of pursuing an IIT course, was killed when a lorry hit the autorickshaw he was travelling in at Habsiguda crossroads on Tuesday. \",\n          \" The judge noted that it was a \\\"very serious case,\\\" where the lady was assaulted, sexually abused and molested. \",\n          \" Burglars broke into a house in Indiranagar decamping with jewellery worth Rs 7.5 lakh collected by a woman for her daughter's wedding. \"\n        ],\n        \"semantic_type\": \"\",\n        \"description\": \"\"\n      }\n    },\n    {\n      \"column\": \"article_link\",\n      \"properties\": {\n        \"dtype\": \"string\",\n        \"num_unique_values\": 7617,\n        \"samples\": [\n          \"https://timesofindia.indiatimes.com/city/pune/matrimonial-fraud-costs-retired-official-16l/articleshow/90923476.cms\",\n          \"https://timesofindia.indiatimes.com/city/delhi/delhi-man-involved-in-helping-gangster-escape-held/articleshow/83807969.cms\",\n          \"https://timesofindia.indiatimes.com/city/pune/cops-bust-gang-targeting-scrap-dealers-for-extortion/articleshow/87213522.cms\"\n        ],\n        \"semantic_type\": \"\",\n        \"description\": \"\"\n      }\n    },\n    {\n      \"column\": \"img_link\",\n      \"properties\": {\n        \"dtype\": \"string\",\n        \"num_unique_values\": 7410,\n        \"samples\": [\n          \"https://static.toiimg.com/thumb/imgsize-123456,msid-75788586,width-300,resizemode-4/75788586.jpg\",\n          \"https://static.toiimg.com/thumb/imgsize-123456,msid-89151271,width-300,resizemode-4/89151271.jpg\",\n          \"https://static.toiimg.com/thumb/imgsize-123456,msid-85644088,width-300,resizemode-4/85644088.jpg\"\n        ],\n        \"semantic_type\": \"\",\n        \"description\": \"\"\n      }\n    },\n    {\n      \"column\": \"month_date\",\n      \"properties\": {\n        \"dtype\": \"category\",\n        \"num_unique_values\": 366,\n        \"samples\": [\n          \"Apr 17\",\n          \"Oct 05\",\n          \"Oct 15\"\n        ],\n        \"semantic_type\": \"\",\n        \"description\": \"\"\n      }\n    },\n    {\n      \"column\": \"time\",\n      \"properties\": {\n        \"dtype\": \"category\",\n        \"num_unique_values\": 1406,\n        \"samples\": [\n          \"20:07\",\n          \"19:3\",\n          \"09:37\"\n        ],\n        \"semantic_type\": \"\",\n        \"description\": \"\"\n      }\n    },\n    {\n      \"column\": \"Year\",\n      \"properties\": {\n        \"dtype\": \"category\",\n        \"num_unique_values\": 55,\n        \"samples\": [\n          \"eb 04\",\n          \", 21:\",\n          \", 07:\"\n        ],\n        \"semantic_type\": \"\",\n        \"description\": \"\"\n      }\n    }\n  ]\n}"
            }
          },
          "metadata": {},
          "execution_count": 89
        }
      ],
      "source": [
        "#Creating a dataframe\n",
        "df=pd.read_csv(\"7k  Unique crime articles.csv\")\n",
        "df"
      ]
    },
    {
      "cell_type": "code",
      "execution_count": 22,
      "id": "06d81473",
      "metadata": {
        "execution": {
          "iopub.execute_input": "2022-12-01T10:45:06.788779Z",
          "iopub.status.busy": "2022-12-01T10:45:06.787663Z",
          "iopub.status.idle": "2022-12-01T10:45:06.794769Z",
          "shell.execute_reply": "2022-12-01T10:45:06.793768Z"
        },
        "papermill": {
          "duration": 0.023658,
          "end_time": "2022-12-01T10:45:06.796930",
          "exception": false,
          "start_time": "2022-12-01T10:45:06.773272",
          "status": "completed"
        },
        "tags": [],
        "colab": {
          "base_uri": "https://localhost:8080/"
        },
        "id": "06d81473",
        "outputId": "faf993e3-d2bd-40a7-b73b-ac75a89157e4"
      },
      "outputs": [
        {
          "output_type": "execute_result",
          "data": {
            "text/plain": [
              "(7617, 7)"
            ]
          },
          "metadata": {},
          "execution_count": 22
        }
      ],
      "source": [
        "#shape of the dataframe\n",
        "\n",
        "df.shape"
      ]
    },
    {
      "cell_type": "code",
      "execution_count": 23,
      "id": "40a3edf4",
      "metadata": {
        "execution": {
          "iopub.execute_input": "2022-12-01T10:45:06.826611Z",
          "iopub.status.busy": "2022-12-01T10:45:06.825613Z",
          "iopub.status.idle": "2022-12-01T10:45:06.841244Z",
          "shell.execute_reply": "2022-12-01T10:45:06.839832Z"
        },
        "papermill": {
          "duration": 0.03392,
          "end_time": "2022-12-01T10:45:06.844123",
          "exception": false,
          "start_time": "2022-12-01T10:45:06.810203",
          "status": "completed"
        },
        "tags": [],
        "colab": {
          "base_uri": "https://localhost:8080/",
          "height": 414
        },
        "id": "40a3edf4",
        "outputId": "3fbb1389-39f3-46a7-91e2-11125c7e3b5d"
      },
      "outputs": [
        {
          "output_type": "execute_result",
          "data": {
            "text/plain": [
              "                                             heading  \\\n",
              "0   Uttarakhand: Man, 39, held for killing consta...   \n",
              "1   Nashik city: Another theft from parked car, s...   \n",
              "2   Pune: Externed criminal jumps from bus fearin...   \n",
              "3   Gaya woman burned alive on suspicion of witch...   \n",
              "4            Man held on charge of stalking in Pune    \n",
              "\n",
              "                                     content_summary  \\\n",
              "0   Nainital district police on Monday arrested a...   \n",
              "1   Thefts from parked cars continues in the city...   \n",
              "2   An externed criminal died in the early hours ...   \n",
              "3   A middle-aged woman was badly thrashed and bu...   \n",
              "4   A man (33) was arrested on Tuesday from Khed ...   \n",
              "\n",
              "                                        article_link  \\\n",
              "0  https://timesofindia.indiatimes.com/city/dehra...   \n",
              "1  https://timesofindia.indiatimes.com/city/nashi...   \n",
              "2  https://timesofindia.indiatimes.com/city/pune/...   \n",
              "3  https://timesofindia.indiatimes.com/city/patna...   \n",
              "4  https://timesofindia.indiatimes.com/city/pune/...   \n",
              "\n",
              "                                            img_link month_date   time  Year  \n",
              "0  https://static.toiimg.com/thumb/imgsize-123456...     Nov 08  09:55  2022  \n",
              "1  https://static.toiimg.com/thumb/imgsize-123456...     Nov 08  08:25  2022  \n",
              "2  https://static.toiimg.com/thumb/imgsize-123456...     Nov 08  05:17  2022  \n",
              "3  https://static.toiimg.com/thumb/imgsize-123456...     Nov 06  05:24  2022  \n",
              "4  https://static.toiimg.com/thumb/imgsize-123456...     Nov 03  08:32  2022  "
            ],
            "text/html": [
              "\n",
              "  <div id=\"df-856e41ac-5401-44e1-b122-b1d46b496996\" class=\"colab-df-container\">\n",
              "    <div>\n",
              "<style scoped>\n",
              "    .dataframe tbody tr th:only-of-type {\n",
              "        vertical-align: middle;\n",
              "    }\n",
              "\n",
              "    .dataframe tbody tr th {\n",
              "        vertical-align: top;\n",
              "    }\n",
              "\n",
              "    .dataframe thead th {\n",
              "        text-align: right;\n",
              "    }\n",
              "</style>\n",
              "<table border=\"1\" class=\"dataframe\">\n",
              "  <thead>\n",
              "    <tr style=\"text-align: right;\">\n",
              "      <th></th>\n",
              "      <th>heading</th>\n",
              "      <th>content_summary</th>\n",
              "      <th>article_link</th>\n",
              "      <th>img_link</th>\n",
              "      <th>month_date</th>\n",
              "      <th>time</th>\n",
              "      <th>Year</th>\n",
              "    </tr>\n",
              "  </thead>\n",
              "  <tbody>\n",
              "    <tr>\n",
              "      <th>0</th>\n",
              "      <td>Uttarakhand: Man, 39, held for killing consta...</td>\n",
              "      <td>Nainital district police on Monday arrested a...</td>\n",
              "      <td>https://timesofindia.indiatimes.com/city/dehra...</td>\n",
              "      <td>https://static.toiimg.com/thumb/imgsize-123456...</td>\n",
              "      <td>Nov 08</td>\n",
              "      <td>09:55</td>\n",
              "      <td>2022</td>\n",
              "    </tr>\n",
              "    <tr>\n",
              "      <th>1</th>\n",
              "      <td>Nashik city: Another theft from parked car, s...</td>\n",
              "      <td>Thefts from parked cars continues in the city...</td>\n",
              "      <td>https://timesofindia.indiatimes.com/city/nashi...</td>\n",
              "      <td>https://static.toiimg.com/thumb/imgsize-123456...</td>\n",
              "      <td>Nov 08</td>\n",
              "      <td>08:25</td>\n",
              "      <td>2022</td>\n",
              "    </tr>\n",
              "    <tr>\n",
              "      <th>2</th>\n",
              "      <td>Pune: Externed criminal jumps from bus fearin...</td>\n",
              "      <td>An externed criminal died in the early hours ...</td>\n",
              "      <td>https://timesofindia.indiatimes.com/city/pune/...</td>\n",
              "      <td>https://static.toiimg.com/thumb/imgsize-123456...</td>\n",
              "      <td>Nov 08</td>\n",
              "      <td>05:17</td>\n",
              "      <td>2022</td>\n",
              "    </tr>\n",
              "    <tr>\n",
              "      <th>3</th>\n",
              "      <td>Gaya woman burned alive on suspicion of witch...</td>\n",
              "      <td>A middle-aged woman was badly thrashed and bu...</td>\n",
              "      <td>https://timesofindia.indiatimes.com/city/patna...</td>\n",
              "      <td>https://static.toiimg.com/thumb/imgsize-123456...</td>\n",
              "      <td>Nov 06</td>\n",
              "      <td>05:24</td>\n",
              "      <td>2022</td>\n",
              "    </tr>\n",
              "    <tr>\n",
              "      <th>4</th>\n",
              "      <td>Man held on charge of stalking in Pune</td>\n",
              "      <td>A man (33) was arrested on Tuesday from Khed ...</td>\n",
              "      <td>https://timesofindia.indiatimes.com/city/pune/...</td>\n",
              "      <td>https://static.toiimg.com/thumb/imgsize-123456...</td>\n",
              "      <td>Nov 03</td>\n",
              "      <td>08:32</td>\n",
              "      <td>2022</td>\n",
              "    </tr>\n",
              "  </tbody>\n",
              "</table>\n",
              "</div>\n",
              "    <div class=\"colab-df-buttons\">\n",
              "\n",
              "  <div class=\"colab-df-container\">\n",
              "    <button class=\"colab-df-convert\" onclick=\"convertToInteractive('df-856e41ac-5401-44e1-b122-b1d46b496996')\"\n",
              "            title=\"Convert this dataframe to an interactive table.\"\n",
              "            style=\"display:none;\">\n",
              "\n",
              "  <svg xmlns=\"http://www.w3.org/2000/svg\" height=\"24px\" viewBox=\"0 -960 960 960\">\n",
              "    <path d=\"M120-120v-720h720v720H120Zm60-500h600v-160H180v160Zm220 220h160v-160H400v160Zm0 220h160v-160H400v160ZM180-400h160v-160H180v160Zm440 0h160v-160H620v160ZM180-180h160v-160H180v160Zm440 0h160v-160H620v160Z\"/>\n",
              "  </svg>\n",
              "    </button>\n",
              "\n",
              "  <style>\n",
              "    .colab-df-container {\n",
              "      display:flex;\n",
              "      gap: 12px;\n",
              "    }\n",
              "\n",
              "    .colab-df-convert {\n",
              "      background-color: #E8F0FE;\n",
              "      border: none;\n",
              "      border-radius: 50%;\n",
              "      cursor: pointer;\n",
              "      display: none;\n",
              "      fill: #1967D2;\n",
              "      height: 32px;\n",
              "      padding: 0 0 0 0;\n",
              "      width: 32px;\n",
              "    }\n",
              "\n",
              "    .colab-df-convert:hover {\n",
              "      background-color: #E2EBFA;\n",
              "      box-shadow: 0px 1px 2px rgba(60, 64, 67, 0.3), 0px 1px 3px 1px rgba(60, 64, 67, 0.15);\n",
              "      fill: #174EA6;\n",
              "    }\n",
              "\n",
              "    .colab-df-buttons div {\n",
              "      margin-bottom: 4px;\n",
              "    }\n",
              "\n",
              "    [theme=dark] .colab-df-convert {\n",
              "      background-color: #3B4455;\n",
              "      fill: #D2E3FC;\n",
              "    }\n",
              "\n",
              "    [theme=dark] .colab-df-convert:hover {\n",
              "      background-color: #434B5C;\n",
              "      box-shadow: 0px 1px 3px 1px rgba(0, 0, 0, 0.15);\n",
              "      filter: drop-shadow(0px 1px 2px rgba(0, 0, 0, 0.3));\n",
              "      fill: #FFFFFF;\n",
              "    }\n",
              "  </style>\n",
              "\n",
              "    <script>\n",
              "      const buttonEl =\n",
              "        document.querySelector('#df-856e41ac-5401-44e1-b122-b1d46b496996 button.colab-df-convert');\n",
              "      buttonEl.style.display =\n",
              "        google.colab.kernel.accessAllowed ? 'block' : 'none';\n",
              "\n",
              "      async function convertToInteractive(key) {\n",
              "        const element = document.querySelector('#df-856e41ac-5401-44e1-b122-b1d46b496996');\n",
              "        const dataTable =\n",
              "          await google.colab.kernel.invokeFunction('convertToInteractive',\n",
              "                                                    [key], {});\n",
              "        if (!dataTable) return;\n",
              "\n",
              "        const docLinkHtml = 'Like what you see? Visit the ' +\n",
              "          '<a target=\"_blank\" href=https://colab.research.google.com/notebooks/data_table.ipynb>data table notebook</a>'\n",
              "          + ' to learn more about interactive tables.';\n",
              "        element.innerHTML = '';\n",
              "        dataTable['output_type'] = 'display_data';\n",
              "        await google.colab.output.renderOutput(dataTable, element);\n",
              "        const docLink = document.createElement('div');\n",
              "        docLink.innerHTML = docLinkHtml;\n",
              "        element.appendChild(docLink);\n",
              "      }\n",
              "    </script>\n",
              "  </div>\n",
              "\n",
              "\n",
              "    <div id=\"df-5a332fdc-5930-4296-9f79-72002cd3651e\">\n",
              "      <button class=\"colab-df-quickchart\" onclick=\"quickchart('df-5a332fdc-5930-4296-9f79-72002cd3651e')\"\n",
              "                title=\"Suggest charts\"\n",
              "                style=\"display:none;\">\n",
              "\n",
              "<svg xmlns=\"http://www.w3.org/2000/svg\" height=\"24px\"viewBox=\"0 0 24 24\"\n",
              "     width=\"24px\">\n",
              "    <g>\n",
              "        <path d=\"M19 3H5c-1.1 0-2 .9-2 2v14c0 1.1.9 2 2 2h14c1.1 0 2-.9 2-2V5c0-1.1-.9-2-2-2zM9 17H7v-7h2v7zm4 0h-2V7h2v10zm4 0h-2v-4h2v4z\"/>\n",
              "    </g>\n",
              "</svg>\n",
              "      </button>\n",
              "\n",
              "<style>\n",
              "  .colab-df-quickchart {\n",
              "      --bg-color: #E8F0FE;\n",
              "      --fill-color: #1967D2;\n",
              "      --hover-bg-color: #E2EBFA;\n",
              "      --hover-fill-color: #174EA6;\n",
              "      --disabled-fill-color: #AAA;\n",
              "      --disabled-bg-color: #DDD;\n",
              "  }\n",
              "\n",
              "  [theme=dark] .colab-df-quickchart {\n",
              "      --bg-color: #3B4455;\n",
              "      --fill-color: #D2E3FC;\n",
              "      --hover-bg-color: #434B5C;\n",
              "      --hover-fill-color: #FFFFFF;\n",
              "      --disabled-bg-color: #3B4455;\n",
              "      --disabled-fill-color: #666;\n",
              "  }\n",
              "\n",
              "  .colab-df-quickchart {\n",
              "    background-color: var(--bg-color);\n",
              "    border: none;\n",
              "    border-radius: 50%;\n",
              "    cursor: pointer;\n",
              "    display: none;\n",
              "    fill: var(--fill-color);\n",
              "    height: 32px;\n",
              "    padding: 0;\n",
              "    width: 32px;\n",
              "  }\n",
              "\n",
              "  .colab-df-quickchart:hover {\n",
              "    background-color: var(--hover-bg-color);\n",
              "    box-shadow: 0 1px 2px rgba(60, 64, 67, 0.3), 0 1px 3px 1px rgba(60, 64, 67, 0.15);\n",
              "    fill: var(--button-hover-fill-color);\n",
              "  }\n",
              "\n",
              "  .colab-df-quickchart-complete:disabled,\n",
              "  .colab-df-quickchart-complete:disabled:hover {\n",
              "    background-color: var(--disabled-bg-color);\n",
              "    fill: var(--disabled-fill-color);\n",
              "    box-shadow: none;\n",
              "  }\n",
              "\n",
              "  .colab-df-spinner {\n",
              "    border: 2px solid var(--fill-color);\n",
              "    border-color: transparent;\n",
              "    border-bottom-color: var(--fill-color);\n",
              "    animation:\n",
              "      spin 1s steps(1) infinite;\n",
              "  }\n",
              "\n",
              "  @keyframes spin {\n",
              "    0% {\n",
              "      border-color: transparent;\n",
              "      border-bottom-color: var(--fill-color);\n",
              "      border-left-color: var(--fill-color);\n",
              "    }\n",
              "    20% {\n",
              "      border-color: transparent;\n",
              "      border-left-color: var(--fill-color);\n",
              "      border-top-color: var(--fill-color);\n",
              "    }\n",
              "    30% {\n",
              "      border-color: transparent;\n",
              "      border-left-color: var(--fill-color);\n",
              "      border-top-color: var(--fill-color);\n",
              "      border-right-color: var(--fill-color);\n",
              "    }\n",
              "    40% {\n",
              "      border-color: transparent;\n",
              "      border-right-color: var(--fill-color);\n",
              "      border-top-color: var(--fill-color);\n",
              "    }\n",
              "    60% {\n",
              "      border-color: transparent;\n",
              "      border-right-color: var(--fill-color);\n",
              "    }\n",
              "    80% {\n",
              "      border-color: transparent;\n",
              "      border-right-color: var(--fill-color);\n",
              "      border-bottom-color: var(--fill-color);\n",
              "    }\n",
              "    90% {\n",
              "      border-color: transparent;\n",
              "      border-bottom-color: var(--fill-color);\n",
              "    }\n",
              "  }\n",
              "</style>\n",
              "\n",
              "      <script>\n",
              "        async function quickchart(key) {\n",
              "          const quickchartButtonEl =\n",
              "            document.querySelector('#' + key + ' button');\n",
              "          quickchartButtonEl.disabled = true;  // To prevent multiple clicks.\n",
              "          quickchartButtonEl.classList.add('colab-df-spinner');\n",
              "          try {\n",
              "            const charts = await google.colab.kernel.invokeFunction(\n",
              "                'suggestCharts', [key], {});\n",
              "          } catch (error) {\n",
              "            console.error('Error during call to suggestCharts:', error);\n",
              "          }\n",
              "          quickchartButtonEl.classList.remove('colab-df-spinner');\n",
              "          quickchartButtonEl.classList.add('colab-df-quickchart-complete');\n",
              "        }\n",
              "        (() => {\n",
              "          let quickchartButtonEl =\n",
              "            document.querySelector('#df-5a332fdc-5930-4296-9f79-72002cd3651e button');\n",
              "          quickchartButtonEl.style.display =\n",
              "            google.colab.kernel.accessAllowed ? 'block' : 'none';\n",
              "        })();\n",
              "      </script>\n",
              "    </div>\n",
              "\n",
              "    </div>\n",
              "  </div>\n"
            ],
            "application/vnd.google.colaboratory.intrinsic+json": {
              "type": "dataframe",
              "variable_name": "df",
              "summary": "{\n  \"name\": \"df\",\n  \"rows\": 7617,\n  \"fields\": [\n    {\n      \"column\": \"heading\",\n      \"properties\": {\n        \"dtype\": \"string\",\n        \"num_unique_values\": 7549,\n        \"samples\": [\n          \" Telugu actor arrested after 400gm drugs seized in Maharashtra \",\n          \" Odisha: Cops hunt for miscreants out to foment trouble \",\n          \" Three held for activist\\u2019s murder \"\n        ],\n        \"semantic_type\": \"\",\n        \"description\": \"\"\n      }\n    },\n    {\n      \"column\": \"content_summary\",\n      \"properties\": {\n        \"dtype\": \"string\",\n        \"num_unique_values\": 6910,\n        \"samples\": [\n          \" A class VII student, who dreamt of pursuing an IIT course, was killed when a lorry hit the autorickshaw he was travelling in at Habsiguda crossroads on Tuesday. \",\n          \" The judge noted that it was a \\\"very serious case,\\\" where the lady was assaulted, sexually abused and molested. \",\n          \" Burglars broke into a house in Indiranagar decamping with jewellery worth Rs 7.5 lakh collected by a woman for her daughter's wedding. \"\n        ],\n        \"semantic_type\": \"\",\n        \"description\": \"\"\n      }\n    },\n    {\n      \"column\": \"article_link\",\n      \"properties\": {\n        \"dtype\": \"string\",\n        \"num_unique_values\": 7617,\n        \"samples\": [\n          \"https://timesofindia.indiatimes.com/city/pune/matrimonial-fraud-costs-retired-official-16l/articleshow/90923476.cms\",\n          \"https://timesofindia.indiatimes.com/city/delhi/delhi-man-involved-in-helping-gangster-escape-held/articleshow/83807969.cms\",\n          \"https://timesofindia.indiatimes.com/city/pune/cops-bust-gang-targeting-scrap-dealers-for-extortion/articleshow/87213522.cms\"\n        ],\n        \"semantic_type\": \"\",\n        \"description\": \"\"\n      }\n    },\n    {\n      \"column\": \"img_link\",\n      \"properties\": {\n        \"dtype\": \"string\",\n        \"num_unique_values\": 7410,\n        \"samples\": [\n          \"https://static.toiimg.com/thumb/imgsize-123456,msid-75788586,width-300,resizemode-4/75788586.jpg\",\n          \"https://static.toiimg.com/thumb/imgsize-123456,msid-89151271,width-300,resizemode-4/89151271.jpg\",\n          \"https://static.toiimg.com/thumb/imgsize-123456,msid-85644088,width-300,resizemode-4/85644088.jpg\"\n        ],\n        \"semantic_type\": \"\",\n        \"description\": \"\"\n      }\n    },\n    {\n      \"column\": \"month_date\",\n      \"properties\": {\n        \"dtype\": \"category\",\n        \"num_unique_values\": 366,\n        \"samples\": [\n          \"Apr 17\",\n          \"Oct 05\",\n          \"Oct 15\"\n        ],\n        \"semantic_type\": \"\",\n        \"description\": \"\"\n      }\n    },\n    {\n      \"column\": \"time\",\n      \"properties\": {\n        \"dtype\": \"category\",\n        \"num_unique_values\": 1406,\n        \"samples\": [\n          \"20:07\",\n          \"19:3\",\n          \"09:37\"\n        ],\n        \"semantic_type\": \"\",\n        \"description\": \"\"\n      }\n    },\n    {\n      \"column\": \"Year\",\n      \"properties\": {\n        \"dtype\": \"category\",\n        \"num_unique_values\": 55,\n        \"samples\": [\n          \"eb 04\",\n          \", 21:\",\n          \", 07:\"\n        ],\n        \"semantic_type\": \"\",\n        \"description\": \"\"\n      }\n    }\n  ]\n}"
            }
          },
          "metadata": {},
          "execution_count": 23
        }
      ],
      "source": [
        "df.head()"
      ]
    },
    {
      "cell_type": "code",
      "execution_count": 24,
      "id": "1f8be18a",
      "metadata": {
        "execution": {
          "iopub.execute_input": "2022-12-01T10:45:06.873627Z",
          "iopub.status.busy": "2022-12-01T10:45:06.873193Z",
          "iopub.status.idle": "2022-12-01T10:45:06.888464Z",
          "shell.execute_reply": "2022-12-01T10:45:06.887300Z"
        },
        "papermill": {
          "duration": 0.033011,
          "end_time": "2022-12-01T10:45:06.890904",
          "exception": false,
          "start_time": "2022-12-01T10:45:06.857893",
          "status": "completed"
        },
        "tags": [],
        "id": "1f8be18a",
        "outputId": "04befa9b-2482-48cd-e581-a45049402396",
        "colab": {
          "base_uri": "https://localhost:8080/",
          "height": 484
        }
      },
      "outputs": [
        {
          "output_type": "execute_result",
          "data": {
            "text/plain": [
              "                                                heading  \\\n",
              "7612   Mumbai: Borivli businessman duped of Rs 1 lak...   \n",
              "7613   Former New York governor Cuomo accused of gro...   \n",
              "7614   Delhi cop and neighbour injured in shooting; ...   \n",
              "7615   Illegal granite mining in TN: ED tags assets ...   \n",
              "7616   Pramod Sawant asks Goa police to ‘zero down’ ...   \n",
              "\n",
              "                                        content_summary  \\\n",
              "7612   A smalltime businessman from Borivli was dupe...   \n",
              "7613   The filing from the Albany County Sheriff's O...   \n",
              "7614   A policeman and his neighbour were shot at by...   \n",
              "7615   The Enforcement directorate (ED) has told the...   \n",
              "7616   Chief minister Pramod Sawant on Friday held a...   \n",
              "\n",
              "                                           article_link  \\\n",
              "7612  https://timesofindia.indiatimes.com/city/mumba...   \n",
              "7613  https://timesofindia.indiatimes.com/world/us/f...   \n",
              "7614  https://timesofindia.indiatimes.com/city/delhi...   \n",
              "7615  https://timesofindia.indiatimes.com/city/chenn...   \n",
              "7616  https://timesofindia.indiatimes.com/city/goa/c...   \n",
              "\n",
              "                                               img_link month_date   time  \\\n",
              "7612  https://static.toiimg.com/thumb/imgsize-123456...     Jul 11  14:44   \n",
              "7613  https://static.toiimg.com/thumb/imgsize-123456...     Oct 29  21, 0   \n",
              "7614  https://static.toiimg.com/thumb/imgsize-123456...     Oct 06  10:32   \n",
              "7615  https://static.toiimg.com/thumb/imgsize-123456...     Nov 10  04:39   \n",
              "7616  https://static.toiimg.com/thumb/imgsize-123456...     Oct 24  04:27   \n",
              "\n",
              "      Year  \n",
              "7612  2020  \n",
              "7613   29,  \n",
              "7614  2020  \n",
              "7615  2020  \n",
              "7616  2020  "
            ],
            "text/html": [
              "\n",
              "  <div id=\"df-41c6e41f-e810-44f2-95dd-a216b8c55cd4\" class=\"colab-df-container\">\n",
              "    <div>\n",
              "<style scoped>\n",
              "    .dataframe tbody tr th:only-of-type {\n",
              "        vertical-align: middle;\n",
              "    }\n",
              "\n",
              "    .dataframe tbody tr th {\n",
              "        vertical-align: top;\n",
              "    }\n",
              "\n",
              "    .dataframe thead th {\n",
              "        text-align: right;\n",
              "    }\n",
              "</style>\n",
              "<table border=\"1\" class=\"dataframe\">\n",
              "  <thead>\n",
              "    <tr style=\"text-align: right;\">\n",
              "      <th></th>\n",
              "      <th>heading</th>\n",
              "      <th>content_summary</th>\n",
              "      <th>article_link</th>\n",
              "      <th>img_link</th>\n",
              "      <th>month_date</th>\n",
              "      <th>time</th>\n",
              "      <th>Year</th>\n",
              "    </tr>\n",
              "  </thead>\n",
              "  <tbody>\n",
              "    <tr>\n",
              "      <th>7612</th>\n",
              "      <td>Mumbai: Borivli businessman duped of Rs 1 lak...</td>\n",
              "      <td>A smalltime businessman from Borivli was dupe...</td>\n",
              "      <td>https://timesofindia.indiatimes.com/city/mumba...</td>\n",
              "      <td>https://static.toiimg.com/thumb/imgsize-123456...</td>\n",
              "      <td>Jul 11</td>\n",
              "      <td>14:44</td>\n",
              "      <td>2020</td>\n",
              "    </tr>\n",
              "    <tr>\n",
              "      <th>7613</th>\n",
              "      <td>Former New York governor Cuomo accused of gro...</td>\n",
              "      <td>The filing from the Albany County Sheriff's O...</td>\n",
              "      <td>https://timesofindia.indiatimes.com/world/us/f...</td>\n",
              "      <td>https://static.toiimg.com/thumb/imgsize-123456...</td>\n",
              "      <td>Oct 29</td>\n",
              "      <td>21, 0</td>\n",
              "      <td>29,</td>\n",
              "    </tr>\n",
              "    <tr>\n",
              "      <th>7614</th>\n",
              "      <td>Delhi cop and neighbour injured in shooting; ...</td>\n",
              "      <td>A policeman and his neighbour were shot at by...</td>\n",
              "      <td>https://timesofindia.indiatimes.com/city/delhi...</td>\n",
              "      <td>https://static.toiimg.com/thumb/imgsize-123456...</td>\n",
              "      <td>Oct 06</td>\n",
              "      <td>10:32</td>\n",
              "      <td>2020</td>\n",
              "    </tr>\n",
              "    <tr>\n",
              "      <th>7615</th>\n",
              "      <td>Illegal granite mining in TN: ED tags assets ...</td>\n",
              "      <td>The Enforcement directorate (ED) has told the...</td>\n",
              "      <td>https://timesofindia.indiatimes.com/city/chenn...</td>\n",
              "      <td>https://static.toiimg.com/thumb/imgsize-123456...</td>\n",
              "      <td>Nov 10</td>\n",
              "      <td>04:39</td>\n",
              "      <td>2020</td>\n",
              "    </tr>\n",
              "    <tr>\n",
              "      <th>7616</th>\n",
              "      <td>Pramod Sawant asks Goa police to ‘zero down’ ...</td>\n",
              "      <td>Chief minister Pramod Sawant on Friday held a...</td>\n",
              "      <td>https://timesofindia.indiatimes.com/city/goa/c...</td>\n",
              "      <td>https://static.toiimg.com/thumb/imgsize-123456...</td>\n",
              "      <td>Oct 24</td>\n",
              "      <td>04:27</td>\n",
              "      <td>2020</td>\n",
              "    </tr>\n",
              "  </tbody>\n",
              "</table>\n",
              "</div>\n",
              "    <div class=\"colab-df-buttons\">\n",
              "\n",
              "  <div class=\"colab-df-container\">\n",
              "    <button class=\"colab-df-convert\" onclick=\"convertToInteractive('df-41c6e41f-e810-44f2-95dd-a216b8c55cd4')\"\n",
              "            title=\"Convert this dataframe to an interactive table.\"\n",
              "            style=\"display:none;\">\n",
              "\n",
              "  <svg xmlns=\"http://www.w3.org/2000/svg\" height=\"24px\" viewBox=\"0 -960 960 960\">\n",
              "    <path d=\"M120-120v-720h720v720H120Zm60-500h600v-160H180v160Zm220 220h160v-160H400v160Zm0 220h160v-160H400v160ZM180-400h160v-160H180v160Zm440 0h160v-160H620v160ZM180-180h160v-160H180v160Zm440 0h160v-160H620v160Z\"/>\n",
              "  </svg>\n",
              "    </button>\n",
              "\n",
              "  <style>\n",
              "    .colab-df-container {\n",
              "      display:flex;\n",
              "      gap: 12px;\n",
              "    }\n",
              "\n",
              "    .colab-df-convert {\n",
              "      background-color: #E8F0FE;\n",
              "      border: none;\n",
              "      border-radius: 50%;\n",
              "      cursor: pointer;\n",
              "      display: none;\n",
              "      fill: #1967D2;\n",
              "      height: 32px;\n",
              "      padding: 0 0 0 0;\n",
              "      width: 32px;\n",
              "    }\n",
              "\n",
              "    .colab-df-convert:hover {\n",
              "      background-color: #E2EBFA;\n",
              "      box-shadow: 0px 1px 2px rgba(60, 64, 67, 0.3), 0px 1px 3px 1px rgba(60, 64, 67, 0.15);\n",
              "      fill: #174EA6;\n",
              "    }\n",
              "\n",
              "    .colab-df-buttons div {\n",
              "      margin-bottom: 4px;\n",
              "    }\n",
              "\n",
              "    [theme=dark] .colab-df-convert {\n",
              "      background-color: #3B4455;\n",
              "      fill: #D2E3FC;\n",
              "    }\n",
              "\n",
              "    [theme=dark] .colab-df-convert:hover {\n",
              "      background-color: #434B5C;\n",
              "      box-shadow: 0px 1px 3px 1px rgba(0, 0, 0, 0.15);\n",
              "      filter: drop-shadow(0px 1px 2px rgba(0, 0, 0, 0.3));\n",
              "      fill: #FFFFFF;\n",
              "    }\n",
              "  </style>\n",
              "\n",
              "    <script>\n",
              "      const buttonEl =\n",
              "        document.querySelector('#df-41c6e41f-e810-44f2-95dd-a216b8c55cd4 button.colab-df-convert');\n",
              "      buttonEl.style.display =\n",
              "        google.colab.kernel.accessAllowed ? 'block' : 'none';\n",
              "\n",
              "      async function convertToInteractive(key) {\n",
              "        const element = document.querySelector('#df-41c6e41f-e810-44f2-95dd-a216b8c55cd4');\n",
              "        const dataTable =\n",
              "          await google.colab.kernel.invokeFunction('convertToInteractive',\n",
              "                                                    [key], {});\n",
              "        if (!dataTable) return;\n",
              "\n",
              "        const docLinkHtml = 'Like what you see? Visit the ' +\n",
              "          '<a target=\"_blank\" href=https://colab.research.google.com/notebooks/data_table.ipynb>data table notebook</a>'\n",
              "          + ' to learn more about interactive tables.';\n",
              "        element.innerHTML = '';\n",
              "        dataTable['output_type'] = 'display_data';\n",
              "        await google.colab.output.renderOutput(dataTable, element);\n",
              "        const docLink = document.createElement('div');\n",
              "        docLink.innerHTML = docLinkHtml;\n",
              "        element.appendChild(docLink);\n",
              "      }\n",
              "    </script>\n",
              "  </div>\n",
              "\n",
              "\n",
              "    <div id=\"df-19cb0fea-1d60-4a5e-ad35-a23eaa04e316\">\n",
              "      <button class=\"colab-df-quickchart\" onclick=\"quickchart('df-19cb0fea-1d60-4a5e-ad35-a23eaa04e316')\"\n",
              "                title=\"Suggest charts\"\n",
              "                style=\"display:none;\">\n",
              "\n",
              "<svg xmlns=\"http://www.w3.org/2000/svg\" height=\"24px\"viewBox=\"0 0 24 24\"\n",
              "     width=\"24px\">\n",
              "    <g>\n",
              "        <path d=\"M19 3H5c-1.1 0-2 .9-2 2v14c0 1.1.9 2 2 2h14c1.1 0 2-.9 2-2V5c0-1.1-.9-2-2-2zM9 17H7v-7h2v7zm4 0h-2V7h2v10zm4 0h-2v-4h2v4z\"/>\n",
              "    </g>\n",
              "</svg>\n",
              "      </button>\n",
              "\n",
              "<style>\n",
              "  .colab-df-quickchart {\n",
              "      --bg-color: #E8F0FE;\n",
              "      --fill-color: #1967D2;\n",
              "      --hover-bg-color: #E2EBFA;\n",
              "      --hover-fill-color: #174EA6;\n",
              "      --disabled-fill-color: #AAA;\n",
              "      --disabled-bg-color: #DDD;\n",
              "  }\n",
              "\n",
              "  [theme=dark] .colab-df-quickchart {\n",
              "      --bg-color: #3B4455;\n",
              "      --fill-color: #D2E3FC;\n",
              "      --hover-bg-color: #434B5C;\n",
              "      --hover-fill-color: #FFFFFF;\n",
              "      --disabled-bg-color: #3B4455;\n",
              "      --disabled-fill-color: #666;\n",
              "  }\n",
              "\n",
              "  .colab-df-quickchart {\n",
              "    background-color: var(--bg-color);\n",
              "    border: none;\n",
              "    border-radius: 50%;\n",
              "    cursor: pointer;\n",
              "    display: none;\n",
              "    fill: var(--fill-color);\n",
              "    height: 32px;\n",
              "    padding: 0;\n",
              "    width: 32px;\n",
              "  }\n",
              "\n",
              "  .colab-df-quickchart:hover {\n",
              "    background-color: var(--hover-bg-color);\n",
              "    box-shadow: 0 1px 2px rgba(60, 64, 67, 0.3), 0 1px 3px 1px rgba(60, 64, 67, 0.15);\n",
              "    fill: var(--button-hover-fill-color);\n",
              "  }\n",
              "\n",
              "  .colab-df-quickchart-complete:disabled,\n",
              "  .colab-df-quickchart-complete:disabled:hover {\n",
              "    background-color: var(--disabled-bg-color);\n",
              "    fill: var(--disabled-fill-color);\n",
              "    box-shadow: none;\n",
              "  }\n",
              "\n",
              "  .colab-df-spinner {\n",
              "    border: 2px solid var(--fill-color);\n",
              "    border-color: transparent;\n",
              "    border-bottom-color: var(--fill-color);\n",
              "    animation:\n",
              "      spin 1s steps(1) infinite;\n",
              "  }\n",
              "\n",
              "  @keyframes spin {\n",
              "    0% {\n",
              "      border-color: transparent;\n",
              "      border-bottom-color: var(--fill-color);\n",
              "      border-left-color: var(--fill-color);\n",
              "    }\n",
              "    20% {\n",
              "      border-color: transparent;\n",
              "      border-left-color: var(--fill-color);\n",
              "      border-top-color: var(--fill-color);\n",
              "    }\n",
              "    30% {\n",
              "      border-color: transparent;\n",
              "      border-left-color: var(--fill-color);\n",
              "      border-top-color: var(--fill-color);\n",
              "      border-right-color: var(--fill-color);\n",
              "    }\n",
              "    40% {\n",
              "      border-color: transparent;\n",
              "      border-right-color: var(--fill-color);\n",
              "      border-top-color: var(--fill-color);\n",
              "    }\n",
              "    60% {\n",
              "      border-color: transparent;\n",
              "      border-right-color: var(--fill-color);\n",
              "    }\n",
              "    80% {\n",
              "      border-color: transparent;\n",
              "      border-right-color: var(--fill-color);\n",
              "      border-bottom-color: var(--fill-color);\n",
              "    }\n",
              "    90% {\n",
              "      border-color: transparent;\n",
              "      border-bottom-color: var(--fill-color);\n",
              "    }\n",
              "  }\n",
              "</style>\n",
              "\n",
              "      <script>\n",
              "        async function quickchart(key) {\n",
              "          const quickchartButtonEl =\n",
              "            document.querySelector('#' + key + ' button');\n",
              "          quickchartButtonEl.disabled = true;  // To prevent multiple clicks.\n",
              "          quickchartButtonEl.classList.add('colab-df-spinner');\n",
              "          try {\n",
              "            const charts = await google.colab.kernel.invokeFunction(\n",
              "                'suggestCharts', [key], {});\n",
              "          } catch (error) {\n",
              "            console.error('Error during call to suggestCharts:', error);\n",
              "          }\n",
              "          quickchartButtonEl.classList.remove('colab-df-spinner');\n",
              "          quickchartButtonEl.classList.add('colab-df-quickchart-complete');\n",
              "        }\n",
              "        (() => {\n",
              "          let quickchartButtonEl =\n",
              "            document.querySelector('#df-19cb0fea-1d60-4a5e-ad35-a23eaa04e316 button');\n",
              "          quickchartButtonEl.style.display =\n",
              "            google.colab.kernel.accessAllowed ? 'block' : 'none';\n",
              "        })();\n",
              "      </script>\n",
              "    </div>\n",
              "\n",
              "    </div>\n",
              "  </div>\n"
            ],
            "application/vnd.google.colaboratory.intrinsic+json": {
              "type": "dataframe",
              "summary": "{\n  \"name\": \"df\",\n  \"rows\": 5,\n  \"fields\": [\n    {\n      \"column\": \"heading\",\n      \"properties\": {\n        \"dtype\": \"string\",\n        \"num_unique_values\": 5,\n        \"samples\": [\n          \" Former New York governor Cuomo accused of groping woman, charged with misdemeanor sex crime \",\n          \" Pramod Sawant asks Goa police to \\u2018zero down\\u2019 crime rate \",\n          \" Delhi cop and neighbour injured in shooting; gang war suspected \"\n        ],\n        \"semantic_type\": \"\",\n        \"description\": \"\"\n      }\n    },\n    {\n      \"column\": \"content_summary\",\n      \"properties\": {\n        \"dtype\": \"string\",\n        \"num_unique_values\": 5,\n        \"samples\": [\n          \" The filing from the Albany County Sheriff's Office, accusing Cuomo of groping a woman under her blouse, was confirmed by a spokesman for the New York state courts, Lucian Chalfen, in an emailed statement referring to the alleged offense as a \\\"sex crime.\\\" Cuomo, who stepped down two months ago under mounting calls for his ouster from prominent fellow Democrats, is to appear in court on Nov 17, the Albany Times Union newspaper reported. \",\n          \" Chief minister Pramod Sawant on Friday held a crime review meeting and directed Goa police to \\u201czero down\\u201d the crime rate in the state. Sawant said that the police have been directed to tighten security and law and order in the state. \",\n          \" A policeman and his neighbour were shot at by unidentified bikers in Alipur on Sunday evening. Over seven rounds were fired at them but the two miraculously survived despite bullet injuries. \"\n        ],\n        \"semantic_type\": \"\",\n        \"description\": \"\"\n      }\n    },\n    {\n      \"column\": \"article_link\",\n      \"properties\": {\n        \"dtype\": \"string\",\n        \"num_unique_values\": 5,\n        \"samples\": [\n          \"https://timesofindia.indiatimes.com/world/us/former-new-york-governor-cuomo-accused-of-groping-woman-charged-with-misdemeanor-sex-crime/articleshow/87353335.cms\",\n          \"https://timesofindia.indiatimes.com/city/goa/cm-asks-goa-police-to-zero-down-crime-rate/articleshow/78837316.cms\",\n          \"https://timesofindia.indiatimes.com/city/delhi/delhi-cop-and-neighbour-injured-in-shooting-gang-war-suspected/articleshow/78507677.cms\"\n        ],\n        \"semantic_type\": \"\",\n        \"description\": \"\"\n      }\n    },\n    {\n      \"column\": \"img_link\",\n      \"properties\": {\n        \"dtype\": \"string\",\n        \"num_unique_values\": 5,\n        \"samples\": [\n          \"https://static.toiimg.com/thumb/imgsize-123456,msid-87353335,width-300,resizemode-4/87353335.jpg\",\n          \"https://static.toiimg.com/thumb/imgsize-123456,msid-78837316,width-300,resizemode-4/78837316.jpg\",\n          \"https://static.toiimg.com/thumb/imgsize-123456,msid-78507677,width-300,resizemode-4/78507677.jpg\"\n        ],\n        \"semantic_type\": \"\",\n        \"description\": \"\"\n      }\n    },\n    {\n      \"column\": \"month_date\",\n      \"properties\": {\n        \"dtype\": \"string\",\n        \"num_unique_values\": 5,\n        \"samples\": [\n          \"Oct 29\",\n          \"Oct 24\",\n          \"Oct 06\"\n        ],\n        \"semantic_type\": \"\",\n        \"description\": \"\"\n      }\n    },\n    {\n      \"column\": \"time\",\n      \"properties\": {\n        \"dtype\": \"string\",\n        \"num_unique_values\": 5,\n        \"samples\": [\n          \"21, 0\",\n          \"04:27\",\n          \"10:32\"\n        ],\n        \"semantic_type\": \"\",\n        \"description\": \"\"\n      }\n    },\n    {\n      \"column\": \"Year\",\n      \"properties\": {\n        \"dtype\": \"category\",\n        \"num_unique_values\": 2,\n        \"samples\": [\n          \"29,\",\n          \"2020\"\n        ],\n        \"semantic_type\": \"\",\n        \"description\": \"\"\n      }\n    }\n  ]\n}"
            }
          },
          "metadata": {},
          "execution_count": 24
        }
      ],
      "source": [
        "df.tail()"
      ]
    },
    {
      "cell_type": "code",
      "execution_count": 25,
      "id": "a5784827",
      "metadata": {
        "execution": {
          "iopub.execute_input": "2022-12-01T10:45:06.922443Z",
          "iopub.status.busy": "2022-12-01T10:45:06.921848Z",
          "iopub.status.idle": "2022-12-01T10:45:06.951673Z",
          "shell.execute_reply": "2022-12-01T10:45:06.950452Z"
        },
        "papermill": {
          "duration": 0.048748,
          "end_time": "2022-12-01T10:45:06.954185",
          "exception": false,
          "start_time": "2022-12-01T10:45:06.905437",
          "status": "completed"
        },
        "tags": [],
        "id": "a5784827",
        "outputId": "7841c5da-ed13-4192-d7f5-6c22c5ec7fb0",
        "colab": {
          "base_uri": "https://localhost:8080/"
        }
      },
      "outputs": [
        {
          "output_type": "stream",
          "name": "stdout",
          "text": [
            "<class 'pandas.core.frame.DataFrame'>\n",
            "RangeIndex: 7617 entries, 0 to 7616\n",
            "Data columns (total 7 columns):\n",
            " #   Column           Non-Null Count  Dtype \n",
            "---  ------           --------------  ----- \n",
            " 0   heading          7617 non-null   object\n",
            " 1   content_summary  7617 non-null   object\n",
            " 2   article_link     7617 non-null   object\n",
            " 3   img_link         7617 non-null   object\n",
            " 4   month_date       7617 non-null   object\n",
            " 5   time             7617 non-null   object\n",
            " 6   Year             7617 non-null   object\n",
            "dtypes: object(7)\n",
            "memory usage: 416.7+ KB\n"
          ]
        }
      ],
      "source": [
        "# getting information about dataframe\n",
        "\n",
        "df.info()"
      ]
    },
    {
      "cell_type": "markdown",
      "id": "93270644",
      "metadata": {
        "papermill": {
          "duration": 0.014173,
          "end_time": "2022-12-01T10:45:06.982203",
          "exception": false,
          "start_time": "2022-12-01T10:45:06.968030",
          "status": "completed"
        },
        "tags": [],
        "id": "93270644"
      },
      "source": [
        "**Handling Null Values**"
      ]
    },
    {
      "cell_type": "code",
      "execution_count": 26,
      "id": "48486cbd",
      "metadata": {
        "execution": {
          "iopub.execute_input": "2022-12-01T10:45:07.015219Z",
          "iopub.status.busy": "2022-12-01T10:45:07.013674Z",
          "iopub.status.idle": "2022-12-01T10:45:07.027462Z",
          "shell.execute_reply": "2022-12-01T10:45:07.026301Z"
        },
        "papermill": {
          "duration": 0.033101,
          "end_time": "2022-12-01T10:45:07.029789",
          "exception": false,
          "start_time": "2022-12-01T10:45:06.996688",
          "status": "completed"
        },
        "tags": [],
        "id": "48486cbd",
        "outputId": "2206d43f-ac47-400b-b5f7-630f07e44b8d",
        "colab": {
          "base_uri": "https://localhost:8080/",
          "height": 303
        }
      },
      "outputs": [
        {
          "output_type": "execute_result",
          "data": {
            "text/plain": [
              "heading            0\n",
              "content_summary    0\n",
              "article_link       0\n",
              "img_link           0\n",
              "month_date         0\n",
              "time               0\n",
              "Year               0\n",
              "dtype: int64"
            ],
            "text/html": [
              "<div>\n",
              "<style scoped>\n",
              "    .dataframe tbody tr th:only-of-type {\n",
              "        vertical-align: middle;\n",
              "    }\n",
              "\n",
              "    .dataframe tbody tr th {\n",
              "        vertical-align: top;\n",
              "    }\n",
              "\n",
              "    .dataframe thead th {\n",
              "        text-align: right;\n",
              "    }\n",
              "</style>\n",
              "<table border=\"1\" class=\"dataframe\">\n",
              "  <thead>\n",
              "    <tr style=\"text-align: right;\">\n",
              "      <th></th>\n",
              "      <th>0</th>\n",
              "    </tr>\n",
              "  </thead>\n",
              "  <tbody>\n",
              "    <tr>\n",
              "      <th>heading</th>\n",
              "      <td>0</td>\n",
              "    </tr>\n",
              "    <tr>\n",
              "      <th>content_summary</th>\n",
              "      <td>0</td>\n",
              "    </tr>\n",
              "    <tr>\n",
              "      <th>article_link</th>\n",
              "      <td>0</td>\n",
              "    </tr>\n",
              "    <tr>\n",
              "      <th>img_link</th>\n",
              "      <td>0</td>\n",
              "    </tr>\n",
              "    <tr>\n",
              "      <th>month_date</th>\n",
              "      <td>0</td>\n",
              "    </tr>\n",
              "    <tr>\n",
              "      <th>time</th>\n",
              "      <td>0</td>\n",
              "    </tr>\n",
              "    <tr>\n",
              "      <th>Year</th>\n",
              "      <td>0</td>\n",
              "    </tr>\n",
              "  </tbody>\n",
              "</table>\n",
              "</div><br><label><b>dtype:</b> int64</label>"
            ]
          },
          "metadata": {},
          "execution_count": 26
        }
      ],
      "source": [
        "df.isnull().sum()"
      ]
    },
    {
      "cell_type": "markdown",
      "id": "f29fb521",
      "metadata": {
        "papermill": {
          "duration": 0.014148,
          "end_time": "2022-12-01T10:45:07.058378",
          "exception": false,
          "start_time": "2022-12-01T10:45:07.044230",
          "status": "completed"
        },
        "tags": [],
        "id": "f29fb521"
      },
      "source": [
        "****"
      ]
    },
    {
      "cell_type": "markdown",
      "id": "fff5eca1",
      "metadata": {
        "papermill": {
          "duration": 0.013963,
          "end_time": "2022-12-01T10:45:07.086796",
          "exception": false,
          "start_time": "2022-12-01T10:45:07.072833",
          "status": "completed"
        },
        "tags": [],
        "id": "fff5eca1"
      },
      "source": [
        "**So there is no null values in the data Frame**"
      ]
    },
    {
      "cell_type": "markdown",
      "id": "aaae5382",
      "metadata": {
        "papermill": {
          "duration": 0.014393,
          "end_time": "2022-12-01T10:45:07.115718",
          "exception": false,
          "start_time": "2022-12-01T10:45:07.101325",
          "status": "completed"
        },
        "tags": [],
        "id": "aaae5382"
      },
      "source": [
        "### Making some plot to UnderStand Our Dataset"
      ]
    },
    {
      "cell_type": "code",
      "execution_count": 27,
      "id": "cc8e990e",
      "metadata": {
        "execution": {
          "iopub.execute_input": "2022-12-01T10:45:07.147015Z",
          "iopub.status.busy": "2022-12-01T10:45:07.145871Z",
          "iopub.status.idle": "2022-12-01T10:45:07.167732Z",
          "shell.execute_reply": "2022-12-01T10:45:07.166532Z"
        },
        "papermill": {
          "duration": 0.040599,
          "end_time": "2022-12-01T10:45:07.170619",
          "exception": false,
          "start_time": "2022-12-01T10:45:07.130020",
          "status": "completed"
        },
        "tags": [],
        "id": "cc8e990e"
      },
      "outputs": [],
      "source": [
        "#Creating some column to know the words  distribution\n",
        "\n",
        "df[\"heading_len\"]=df[\"heading\"].apply(lambda x:len(x))\n",
        "\n",
        "#Counting words\n",
        "df[\"word_count\"]=df[\"heading\"].apply(lambda x:(len(x.split())))\n"
      ]
    },
    {
      "cell_type": "code",
      "execution_count": 28,
      "id": "389d7884",
      "metadata": {
        "execution": {
          "iopub.execute_input": "2022-12-01T10:45:07.201769Z",
          "iopub.status.busy": "2022-12-01T10:45:07.201338Z",
          "iopub.status.idle": "2022-12-01T10:45:07.207129Z",
          "shell.execute_reply": "2022-12-01T10:45:07.205934Z"
        },
        "papermill": {
          "duration": 0.023857,
          "end_time": "2022-12-01T10:45:07.209426",
          "exception": false,
          "start_time": "2022-12-01T10:45:07.185569",
          "status": "completed"
        },
        "tags": [],
        "id": "389d7884"
      },
      "outputs": [],
      "source": [
        "# Function for getting average word lenghth\n",
        "\n",
        "def get_avg_word_len(x):\n",
        "\n",
        "    words=x.split()\n",
        "    word_len=0\n",
        "    for word in words:\n",
        "        word_len=word_len +len(word)\n",
        "    return word_len/len(words)"
      ]
    },
    {
      "cell_type": "code",
      "execution_count": 29,
      "id": "b4df4dfb",
      "metadata": {
        "execution": {
          "iopub.execute_input": "2022-12-01T10:45:07.242784Z",
          "iopub.status.busy": "2022-12-01T10:45:07.241969Z",
          "iopub.status.idle": "2022-12-01T10:45:07.266784Z",
          "shell.execute_reply": "2022-12-01T10:45:07.265451Z"
        },
        "papermill": {
          "duration": 0.043413,
          "end_time": "2022-12-01T10:45:07.269410",
          "exception": false,
          "start_time": "2022-12-01T10:45:07.225997",
          "status": "completed"
        },
        "tags": [],
        "id": "b4df4dfb"
      },
      "outputs": [],
      "source": [
        "df[\"avg_word_len\"]=df[\"heading\"].apply(lambda x: get_avg_word_len(x))"
      ]
    },
    {
      "cell_type": "code",
      "execution_count": 30,
      "id": "d45c4f3d",
      "metadata": {
        "execution": {
          "iopub.execute_input": "2022-12-01T10:45:07.301019Z",
          "iopub.status.busy": "2022-12-01T10:45:07.300502Z",
          "iopub.status.idle": "2022-12-01T10:45:07.317901Z",
          "shell.execute_reply": "2022-12-01T10:45:07.316706Z"
        },
        "papermill": {
          "duration": 0.037401,
          "end_time": "2022-12-01T10:45:07.320891",
          "exception": false,
          "start_time": "2022-12-01T10:45:07.283490",
          "status": "completed"
        },
        "tags": [],
        "id": "d45c4f3d",
        "outputId": "7d8a6927-af61-4dba-fff2-ea7e89dafc31",
        "colab": {
          "base_uri": "https://localhost:8080/",
          "height": 538
        }
      },
      "outputs": [
        {
          "output_type": "execute_result",
          "data": {
            "text/plain": [
              "                                             heading  \\\n",
              "0   Uttarakhand: Man, 39, held for killing consta...   \n",
              "1   Nashik city: Another theft from parked car, s...   \n",
              "2   Pune: Externed criminal jumps from bus fearin...   \n",
              "3   Gaya woman burned alive on suspicion of witch...   \n",
              "4            Man held on charge of stalking in Pune    \n",
              "\n",
              "                                     content_summary  \\\n",
              "0   Nainital district police on Monday arrested a...   \n",
              "1   Thefts from parked cars continues in the city...   \n",
              "2   An externed criminal died in the early hours ...   \n",
              "3   A middle-aged woman was badly thrashed and bu...   \n",
              "4   A man (33) was arrested on Tuesday from Khed ...   \n",
              "\n",
              "                                        article_link  \\\n",
              "0  https://timesofindia.indiatimes.com/city/dehra...   \n",
              "1  https://timesofindia.indiatimes.com/city/nashi...   \n",
              "2  https://timesofindia.indiatimes.com/city/pune/...   \n",
              "3  https://timesofindia.indiatimes.com/city/patna...   \n",
              "4  https://timesofindia.indiatimes.com/city/pune/...   \n",
              "\n",
              "                                            img_link month_date   time  Year  \\\n",
              "0  https://static.toiimg.com/thumb/imgsize-123456...     Nov 08  09:55  2022   \n",
              "1  https://static.toiimg.com/thumb/imgsize-123456...     Nov 08  08:25  2022   \n",
              "2  https://static.toiimg.com/thumb/imgsize-123456...     Nov 08  05:17  2022   \n",
              "3  https://static.toiimg.com/thumb/imgsize-123456...     Nov 06  05:24  2022   \n",
              "4  https://static.toiimg.com/thumb/imgsize-123456...     Nov 03  08:32  2022   \n",
              "\n",
              "   heading_len  word_count  avg_word_len  \n",
              "0           69          10      5.800000  \n",
              "1           68          12      4.583333  \n",
              "2           72          12      4.916667  \n",
              "3           52           8      5.375000  \n",
              "4           40           8      3.875000  "
            ],
            "text/html": [
              "\n",
              "  <div id=\"df-0395d57d-3ef1-4dcb-96d2-d277af1565c9\" class=\"colab-df-container\">\n",
              "    <div>\n",
              "<style scoped>\n",
              "    .dataframe tbody tr th:only-of-type {\n",
              "        vertical-align: middle;\n",
              "    }\n",
              "\n",
              "    .dataframe tbody tr th {\n",
              "        vertical-align: top;\n",
              "    }\n",
              "\n",
              "    .dataframe thead th {\n",
              "        text-align: right;\n",
              "    }\n",
              "</style>\n",
              "<table border=\"1\" class=\"dataframe\">\n",
              "  <thead>\n",
              "    <tr style=\"text-align: right;\">\n",
              "      <th></th>\n",
              "      <th>heading</th>\n",
              "      <th>content_summary</th>\n",
              "      <th>article_link</th>\n",
              "      <th>img_link</th>\n",
              "      <th>month_date</th>\n",
              "      <th>time</th>\n",
              "      <th>Year</th>\n",
              "      <th>heading_len</th>\n",
              "      <th>word_count</th>\n",
              "      <th>avg_word_len</th>\n",
              "    </tr>\n",
              "  </thead>\n",
              "  <tbody>\n",
              "    <tr>\n",
              "      <th>0</th>\n",
              "      <td>Uttarakhand: Man, 39, held for killing consta...</td>\n",
              "      <td>Nainital district police on Monday arrested a...</td>\n",
              "      <td>https://timesofindia.indiatimes.com/city/dehra...</td>\n",
              "      <td>https://static.toiimg.com/thumb/imgsize-123456...</td>\n",
              "      <td>Nov 08</td>\n",
              "      <td>09:55</td>\n",
              "      <td>2022</td>\n",
              "      <td>69</td>\n",
              "      <td>10</td>\n",
              "      <td>5.800000</td>\n",
              "    </tr>\n",
              "    <tr>\n",
              "      <th>1</th>\n",
              "      <td>Nashik city: Another theft from parked car, s...</td>\n",
              "      <td>Thefts from parked cars continues in the city...</td>\n",
              "      <td>https://timesofindia.indiatimes.com/city/nashi...</td>\n",
              "      <td>https://static.toiimg.com/thumb/imgsize-123456...</td>\n",
              "      <td>Nov 08</td>\n",
              "      <td>08:25</td>\n",
              "      <td>2022</td>\n",
              "      <td>68</td>\n",
              "      <td>12</td>\n",
              "      <td>4.583333</td>\n",
              "    </tr>\n",
              "    <tr>\n",
              "      <th>2</th>\n",
              "      <td>Pune: Externed criminal jumps from bus fearin...</td>\n",
              "      <td>An externed criminal died in the early hours ...</td>\n",
              "      <td>https://timesofindia.indiatimes.com/city/pune/...</td>\n",
              "      <td>https://static.toiimg.com/thumb/imgsize-123456...</td>\n",
              "      <td>Nov 08</td>\n",
              "      <td>05:17</td>\n",
              "      <td>2022</td>\n",
              "      <td>72</td>\n",
              "      <td>12</td>\n",
              "      <td>4.916667</td>\n",
              "    </tr>\n",
              "    <tr>\n",
              "      <th>3</th>\n",
              "      <td>Gaya woman burned alive on suspicion of witch...</td>\n",
              "      <td>A middle-aged woman was badly thrashed and bu...</td>\n",
              "      <td>https://timesofindia.indiatimes.com/city/patna...</td>\n",
              "      <td>https://static.toiimg.com/thumb/imgsize-123456...</td>\n",
              "      <td>Nov 06</td>\n",
              "      <td>05:24</td>\n",
              "      <td>2022</td>\n",
              "      <td>52</td>\n",
              "      <td>8</td>\n",
              "      <td>5.375000</td>\n",
              "    </tr>\n",
              "    <tr>\n",
              "      <th>4</th>\n",
              "      <td>Man held on charge of stalking in Pune</td>\n",
              "      <td>A man (33) was arrested on Tuesday from Khed ...</td>\n",
              "      <td>https://timesofindia.indiatimes.com/city/pune/...</td>\n",
              "      <td>https://static.toiimg.com/thumb/imgsize-123456...</td>\n",
              "      <td>Nov 03</td>\n",
              "      <td>08:32</td>\n",
              "      <td>2022</td>\n",
              "      <td>40</td>\n",
              "      <td>8</td>\n",
              "      <td>3.875000</td>\n",
              "    </tr>\n",
              "  </tbody>\n",
              "</table>\n",
              "</div>\n",
              "    <div class=\"colab-df-buttons\">\n",
              "\n",
              "  <div class=\"colab-df-container\">\n",
              "    <button class=\"colab-df-convert\" onclick=\"convertToInteractive('df-0395d57d-3ef1-4dcb-96d2-d277af1565c9')\"\n",
              "            title=\"Convert this dataframe to an interactive table.\"\n",
              "            style=\"display:none;\">\n",
              "\n",
              "  <svg xmlns=\"http://www.w3.org/2000/svg\" height=\"24px\" viewBox=\"0 -960 960 960\">\n",
              "    <path d=\"M120-120v-720h720v720H120Zm60-500h600v-160H180v160Zm220 220h160v-160H400v160Zm0 220h160v-160H400v160ZM180-400h160v-160H180v160Zm440 0h160v-160H620v160ZM180-180h160v-160H180v160Zm440 0h160v-160H620v160Z\"/>\n",
              "  </svg>\n",
              "    </button>\n",
              "\n",
              "  <style>\n",
              "    .colab-df-container {\n",
              "      display:flex;\n",
              "      gap: 12px;\n",
              "    }\n",
              "\n",
              "    .colab-df-convert {\n",
              "      background-color: #E8F0FE;\n",
              "      border: none;\n",
              "      border-radius: 50%;\n",
              "      cursor: pointer;\n",
              "      display: none;\n",
              "      fill: #1967D2;\n",
              "      height: 32px;\n",
              "      padding: 0 0 0 0;\n",
              "      width: 32px;\n",
              "    }\n",
              "\n",
              "    .colab-df-convert:hover {\n",
              "      background-color: #E2EBFA;\n",
              "      box-shadow: 0px 1px 2px rgba(60, 64, 67, 0.3), 0px 1px 3px 1px rgba(60, 64, 67, 0.15);\n",
              "      fill: #174EA6;\n",
              "    }\n",
              "\n",
              "    .colab-df-buttons div {\n",
              "      margin-bottom: 4px;\n",
              "    }\n",
              "\n",
              "    [theme=dark] .colab-df-convert {\n",
              "      background-color: #3B4455;\n",
              "      fill: #D2E3FC;\n",
              "    }\n",
              "\n",
              "    [theme=dark] .colab-df-convert:hover {\n",
              "      background-color: #434B5C;\n",
              "      box-shadow: 0px 1px 3px 1px rgba(0, 0, 0, 0.15);\n",
              "      filter: drop-shadow(0px 1px 2px rgba(0, 0, 0, 0.3));\n",
              "      fill: #FFFFFF;\n",
              "    }\n",
              "  </style>\n",
              "\n",
              "    <script>\n",
              "      const buttonEl =\n",
              "        document.querySelector('#df-0395d57d-3ef1-4dcb-96d2-d277af1565c9 button.colab-df-convert');\n",
              "      buttonEl.style.display =\n",
              "        google.colab.kernel.accessAllowed ? 'block' : 'none';\n",
              "\n",
              "      async function convertToInteractive(key) {\n",
              "        const element = document.querySelector('#df-0395d57d-3ef1-4dcb-96d2-d277af1565c9');\n",
              "        const dataTable =\n",
              "          await google.colab.kernel.invokeFunction('convertToInteractive',\n",
              "                                                    [key], {});\n",
              "        if (!dataTable) return;\n",
              "\n",
              "        const docLinkHtml = 'Like what you see? Visit the ' +\n",
              "          '<a target=\"_blank\" href=https://colab.research.google.com/notebooks/data_table.ipynb>data table notebook</a>'\n",
              "          + ' to learn more about interactive tables.';\n",
              "        element.innerHTML = '';\n",
              "        dataTable['output_type'] = 'display_data';\n",
              "        await google.colab.output.renderOutput(dataTable, element);\n",
              "        const docLink = document.createElement('div');\n",
              "        docLink.innerHTML = docLinkHtml;\n",
              "        element.appendChild(docLink);\n",
              "      }\n",
              "    </script>\n",
              "  </div>\n",
              "\n",
              "\n",
              "    <div id=\"df-6f0d2740-5851-49b4-8709-caba27708866\">\n",
              "      <button class=\"colab-df-quickchart\" onclick=\"quickchart('df-6f0d2740-5851-49b4-8709-caba27708866')\"\n",
              "                title=\"Suggest charts\"\n",
              "                style=\"display:none;\">\n",
              "\n",
              "<svg xmlns=\"http://www.w3.org/2000/svg\" height=\"24px\"viewBox=\"0 0 24 24\"\n",
              "     width=\"24px\">\n",
              "    <g>\n",
              "        <path d=\"M19 3H5c-1.1 0-2 .9-2 2v14c0 1.1.9 2 2 2h14c1.1 0 2-.9 2-2V5c0-1.1-.9-2-2-2zM9 17H7v-7h2v7zm4 0h-2V7h2v10zm4 0h-2v-4h2v4z\"/>\n",
              "    </g>\n",
              "</svg>\n",
              "      </button>\n",
              "\n",
              "<style>\n",
              "  .colab-df-quickchart {\n",
              "      --bg-color: #E8F0FE;\n",
              "      --fill-color: #1967D2;\n",
              "      --hover-bg-color: #E2EBFA;\n",
              "      --hover-fill-color: #174EA6;\n",
              "      --disabled-fill-color: #AAA;\n",
              "      --disabled-bg-color: #DDD;\n",
              "  }\n",
              "\n",
              "  [theme=dark] .colab-df-quickchart {\n",
              "      --bg-color: #3B4455;\n",
              "      --fill-color: #D2E3FC;\n",
              "      --hover-bg-color: #434B5C;\n",
              "      --hover-fill-color: #FFFFFF;\n",
              "      --disabled-bg-color: #3B4455;\n",
              "      --disabled-fill-color: #666;\n",
              "  }\n",
              "\n",
              "  .colab-df-quickchart {\n",
              "    background-color: var(--bg-color);\n",
              "    border: none;\n",
              "    border-radius: 50%;\n",
              "    cursor: pointer;\n",
              "    display: none;\n",
              "    fill: var(--fill-color);\n",
              "    height: 32px;\n",
              "    padding: 0;\n",
              "    width: 32px;\n",
              "  }\n",
              "\n",
              "  .colab-df-quickchart:hover {\n",
              "    background-color: var(--hover-bg-color);\n",
              "    box-shadow: 0 1px 2px rgba(60, 64, 67, 0.3), 0 1px 3px 1px rgba(60, 64, 67, 0.15);\n",
              "    fill: var(--button-hover-fill-color);\n",
              "  }\n",
              "\n",
              "  .colab-df-quickchart-complete:disabled,\n",
              "  .colab-df-quickchart-complete:disabled:hover {\n",
              "    background-color: var(--disabled-bg-color);\n",
              "    fill: var(--disabled-fill-color);\n",
              "    box-shadow: none;\n",
              "  }\n",
              "\n",
              "  .colab-df-spinner {\n",
              "    border: 2px solid var(--fill-color);\n",
              "    border-color: transparent;\n",
              "    border-bottom-color: var(--fill-color);\n",
              "    animation:\n",
              "      spin 1s steps(1) infinite;\n",
              "  }\n",
              "\n",
              "  @keyframes spin {\n",
              "    0% {\n",
              "      border-color: transparent;\n",
              "      border-bottom-color: var(--fill-color);\n",
              "      border-left-color: var(--fill-color);\n",
              "    }\n",
              "    20% {\n",
              "      border-color: transparent;\n",
              "      border-left-color: var(--fill-color);\n",
              "      border-top-color: var(--fill-color);\n",
              "    }\n",
              "    30% {\n",
              "      border-color: transparent;\n",
              "      border-left-color: var(--fill-color);\n",
              "      border-top-color: var(--fill-color);\n",
              "      border-right-color: var(--fill-color);\n",
              "    }\n",
              "    40% {\n",
              "      border-color: transparent;\n",
              "      border-right-color: var(--fill-color);\n",
              "      border-top-color: var(--fill-color);\n",
              "    }\n",
              "    60% {\n",
              "      border-color: transparent;\n",
              "      border-right-color: var(--fill-color);\n",
              "    }\n",
              "    80% {\n",
              "      border-color: transparent;\n",
              "      border-right-color: var(--fill-color);\n",
              "      border-bottom-color: var(--fill-color);\n",
              "    }\n",
              "    90% {\n",
              "      border-color: transparent;\n",
              "      border-bottom-color: var(--fill-color);\n",
              "    }\n",
              "  }\n",
              "</style>\n",
              "\n",
              "      <script>\n",
              "        async function quickchart(key) {\n",
              "          const quickchartButtonEl =\n",
              "            document.querySelector('#' + key + ' button');\n",
              "          quickchartButtonEl.disabled = true;  // To prevent multiple clicks.\n",
              "          quickchartButtonEl.classList.add('colab-df-spinner');\n",
              "          try {\n",
              "            const charts = await google.colab.kernel.invokeFunction(\n",
              "                'suggestCharts', [key], {});\n",
              "          } catch (error) {\n",
              "            console.error('Error during call to suggestCharts:', error);\n",
              "          }\n",
              "          quickchartButtonEl.classList.remove('colab-df-spinner');\n",
              "          quickchartButtonEl.classList.add('colab-df-quickchart-complete');\n",
              "        }\n",
              "        (() => {\n",
              "          let quickchartButtonEl =\n",
              "            document.querySelector('#df-6f0d2740-5851-49b4-8709-caba27708866 button');\n",
              "          quickchartButtonEl.style.display =\n",
              "            google.colab.kernel.accessAllowed ? 'block' : 'none';\n",
              "        })();\n",
              "      </script>\n",
              "    </div>\n",
              "\n",
              "    </div>\n",
              "  </div>\n"
            ],
            "application/vnd.google.colaboratory.intrinsic+json": {
              "type": "dataframe",
              "variable_name": "df",
              "summary": "{\n  \"name\": \"df\",\n  \"rows\": 7617,\n  \"fields\": [\n    {\n      \"column\": \"heading\",\n      \"properties\": {\n        \"dtype\": \"string\",\n        \"num_unique_values\": 7549,\n        \"samples\": [\n          \" Telugu actor arrested after 400gm drugs seized in Maharashtra \",\n          \" Odisha: Cops hunt for miscreants out to foment trouble \",\n          \" Three held for activist\\u2019s murder \"\n        ],\n        \"semantic_type\": \"\",\n        \"description\": \"\"\n      }\n    },\n    {\n      \"column\": \"content_summary\",\n      \"properties\": {\n        \"dtype\": \"string\",\n        \"num_unique_values\": 6910,\n        \"samples\": [\n          \" A class VII student, who dreamt of pursuing an IIT course, was killed when a lorry hit the autorickshaw he was travelling in at Habsiguda crossroads on Tuesday. \",\n          \" The judge noted that it was a \\\"very serious case,\\\" where the lady was assaulted, sexually abused and molested. \",\n          \" Burglars broke into a house in Indiranagar decamping with jewellery worth Rs 7.5 lakh collected by a woman for her daughter's wedding. \"\n        ],\n        \"semantic_type\": \"\",\n        \"description\": \"\"\n      }\n    },\n    {\n      \"column\": \"article_link\",\n      \"properties\": {\n        \"dtype\": \"string\",\n        \"num_unique_values\": 7617,\n        \"samples\": [\n          \"https://timesofindia.indiatimes.com/city/pune/matrimonial-fraud-costs-retired-official-16l/articleshow/90923476.cms\",\n          \"https://timesofindia.indiatimes.com/city/delhi/delhi-man-involved-in-helping-gangster-escape-held/articleshow/83807969.cms\",\n          \"https://timesofindia.indiatimes.com/city/pune/cops-bust-gang-targeting-scrap-dealers-for-extortion/articleshow/87213522.cms\"\n        ],\n        \"semantic_type\": \"\",\n        \"description\": \"\"\n      }\n    },\n    {\n      \"column\": \"img_link\",\n      \"properties\": {\n        \"dtype\": \"string\",\n        \"num_unique_values\": 7410,\n        \"samples\": [\n          \"https://static.toiimg.com/thumb/imgsize-123456,msid-75788586,width-300,resizemode-4/75788586.jpg\",\n          \"https://static.toiimg.com/thumb/imgsize-123456,msid-89151271,width-300,resizemode-4/89151271.jpg\",\n          \"https://static.toiimg.com/thumb/imgsize-123456,msid-85644088,width-300,resizemode-4/85644088.jpg\"\n        ],\n        \"semantic_type\": \"\",\n        \"description\": \"\"\n      }\n    },\n    {\n      \"column\": \"month_date\",\n      \"properties\": {\n        \"dtype\": \"category\",\n        \"num_unique_values\": 366,\n        \"samples\": [\n          \"Apr 17\",\n          \"Oct 05\",\n          \"Oct 15\"\n        ],\n        \"semantic_type\": \"\",\n        \"description\": \"\"\n      }\n    },\n    {\n      \"column\": \"time\",\n      \"properties\": {\n        \"dtype\": \"category\",\n        \"num_unique_values\": 1406,\n        \"samples\": [\n          \"20:07\",\n          \"19:3\",\n          \"09:37\"\n        ],\n        \"semantic_type\": \"\",\n        \"description\": \"\"\n      }\n    },\n    {\n      \"column\": \"Year\",\n      \"properties\": {\n        \"dtype\": \"category\",\n        \"num_unique_values\": 55,\n        \"samples\": [\n          \"eb 04\",\n          \", 21:\",\n          \", 07:\"\n        ],\n        \"semantic_type\": \"\",\n        \"description\": \"\"\n      }\n    },\n    {\n      \"column\": \"heading_len\",\n      \"properties\": {\n        \"dtype\": \"number\",\n        \"std\": 14,\n        \"min\": 17,\n        \"max\": 172,\n        \"num_unique_values\": 102,\n        \"samples\": [\n          89,\n          91,\n          44\n        ],\n        \"semantic_type\": \"\",\n        \"description\": \"\"\n      }\n    },\n    {\n      \"column\": \"word_count\",\n      \"properties\": {\n        \"dtype\": \"number\",\n        \"std\": 2,\n        \"min\": 3,\n        \"max\": 25,\n        \"num_unique_values\": 22,\n        \"samples\": [\n          10,\n          20,\n          9\n        ],\n        \"semantic_type\": \"\",\n        \"description\": \"\"\n      }\n    },\n    {\n      \"column\": \"avg_word_len\",\n      \"properties\": {\n        \"dtype\": \"number\",\n        \"std\": 0.7961724036244925,\n        \"min\": 2.9375,\n        \"max\": 9.75,\n        \"num_unique_values\": 337,\n        \"samples\": [\n          4.3,\n          7.142857142857143,\n          5.090909090909091\n        ],\n        \"semantic_type\": \"\",\n        \"description\": \"\"\n      }\n    }\n  ]\n}"
            }
          },
          "metadata": {},
          "execution_count": 30
        }
      ],
      "source": [
        "df.head()"
      ]
    },
    {
      "cell_type": "markdown",
      "id": "fb4df05d",
      "metadata": {
        "papermill": {
          "duration": 0.014245,
          "end_time": "2022-12-01T10:45:07.350146",
          "exception": false,
          "start_time": "2022-12-01T10:45:07.335901",
          "status": "completed"
        },
        "tags": [],
        "id": "fb4df05d"
      },
      "source": [
        "## making some plots to know our dataset"
      ]
    },
    {
      "cell_type": "code",
      "execution_count": 53,
      "id": "0126d9df",
      "metadata": {
        "execution": {
          "iopub.execute_input": "2022-12-01T10:45:07.381493Z",
          "iopub.status.busy": "2022-12-01T10:45:07.380222Z",
          "iopub.status.idle": "2022-12-01T10:45:11.378233Z",
          "shell.execute_reply": "2022-12-01T10:45:11.377197Z"
        },
        "papermill": {
          "duration": 4.287227,
          "end_time": "2022-12-01T10:45:11.651770",
          "exception": false,
          "start_time": "2022-12-01T10:45:07.364543",
          "status": "completed"
        },
        "tags": [],
        "id": "0126d9df",
        "outputId": "5959241b-2136-483f-c1ae-ca3064bb4bd5",
        "colab": {
          "base_uri": "https://localhost:8080/",
          "height": 564
        }
      },
      "outputs": [
        {
          "output_type": "display_data",
          "data": {
            "text/plain": [
              "<Figure size 1000x600 with 1 Axes>"
            ],
            "image/png": "[encoded data removed]"
          },
          "metadata": {}
        }
      ],
      "source": [
        "\n",
        "\n",
        "plt.figure(figsize=(10, 6))\n",
        "plt.plot(df.index, df['heading_len'], color='blue')\n",
        "plt.xlabel('Index')\n",
        "plt.ylabel('Heading Length')\n",
        "plt.title('Heading Length Distribution')\n",
        "plt.show()"
      ]
    },
    {
      "cell_type": "code",
      "execution_count": 52,
      "id": "916cea9b",
      "metadata": {
        "execution": {
          "iopub.execute_input": "2022-12-01T10:45:12.600520Z",
          "iopub.status.busy": "2022-12-01T10:45:12.599714Z",
          "iopub.status.idle": "2022-12-01T10:45:12.771504Z",
          "shell.execute_reply": "2022-12-01T10:45:12.770032Z"
        },
        "papermill": {
          "duration": 0.643758,
          "end_time": "2022-12-01T10:45:12.780143",
          "exception": false,
          "start_time": "2022-12-01T10:45:12.136385",
          "status": "completed"
        },
        "tags": [],
        "id": "916cea9b",
        "outputId": "4e6d8a9b-f191-462d-ec8a-2724dd15aa48",
        "colab": {
          "base_uri": "https://localhost:8080/",
          "height": 564
        }
      },
      "outputs": [
        {
          "output_type": "display_data",
          "data": {
            "text/plain": [
              "<Figure size 1000x600 with 1 Axes>"
            ],
            "image/png": "[encoded data removed]"
          },
          "metadata": {}
        }
      ],
      "source": [
        "#  Visualizing our word_count column\n",
        "\n",
        "\n",
        "\n",
        "plt.figure(figsize=(10, 6))\n",
        "plt.hist(df['word_count'], bins=20, color='blue', edgecolor='black')\n",
        "plt.xlabel('Word Count')\n",
        "plt.ylabel('Frequency')\n",
        "plt.title('Word Count Distribution')\n",
        "plt.show()"
      ]
    },
    {
      "cell_type": "code",
      "execution_count": 51,
      "id": "6e2d2c55",
      "metadata": {
        "execution": {
          "iopub.execute_input": "2022-12-01T10:45:13.748639Z",
          "iopub.status.busy": "2022-12-01T10:45:13.747925Z",
          "iopub.status.idle": "2022-12-01T10:45:13.911741Z",
          "shell.execute_reply": "2022-12-01T10:45:13.910557Z"
        },
        "papermill": {
          "duration": 0.658715,
          "end_time": "2022-12-01T10:45:13.922315",
          "exception": false,
          "start_time": "2022-12-01T10:45:13.263600",
          "status": "completed"
        },
        "tags": [],
        "id": "6e2d2c55",
        "outputId": "a072688a-5306-4245-9375-60ac598c403c",
        "colab": {
          "base_uri": "https://localhost:8080/",
          "height": 564
        }
      },
      "outputs": [
        {
          "output_type": "display_data",
          "data": {
            "text/plain": [
              "<Figure size 1000x600 with 1 Axes>"
            ],
            "image/png": "[encoded data removed]"
          },
          "metadata": {}
        }
      ],
      "source": [
        "#Visualizing average word length\n",
        "\n",
        "\n",
        "\n",
        "plt.figure(figsize=(10, 6))\n",
        "plt.hist(df['avg_word_len'], bins=20, color='blue', edgecolor='black')\n",
        "plt.xlabel('Average Word Length')\n",
        "plt.ylabel('Frequency')\n",
        "plt.title('Average Word Length Distribution')\n",
        "plt.show()"
      ]
    },
    {
      "cell_type": "code",
      "execution_count": 56,
      "id": "debc9476",
      "metadata": {
        "execution": {
          "iopub.execute_input": "2022-12-01T10:45:14.961877Z",
          "iopub.status.busy": "2022-12-01T10:45:14.961431Z",
          "iopub.status.idle": "2022-12-01T10:45:15.108553Z",
          "shell.execute_reply": "2022-12-01T10:45:15.107617Z"
        },
        "papermill": {
          "duration": 0.675611,
          "end_time": "2022-12-01T10:45:15.116711",
          "exception": false,
          "start_time": "2022-12-01T10:45:14.441100",
          "status": "completed"
        },
        "tags": [],
        "id": "debc9476",
        "outputId": "36955d8d-0b43-45cd-b0af-d5c5b6f894be",
        "colab": {
          "base_uri": "https://localhost:8080/",
          "height": 564
        }
      },
      "outputs": [
        {
          "output_type": "display_data",
          "data": {
            "text/plain": [
              "<Figure size 1000x600 with 1 Axes>"
            ],
            "image/png": "[encoded data removed]"
          },
          "metadata": {}
        }
      ],
      "source": [
        "# Visualizing length of heading distribution\n",
        "\n",
        "plt.figure(figsize=(10, 6))\n",
        "plt.hist(df['heading_len'], bins=20, color='blue', edgecolor='black')\n",
        "plt.xlabel('Heading Length')\n",
        "plt.ylabel('Frequency')\n",
        "plt.title('Heading Length Distribution')\n",
        "plt.show()"
      ]
    },
    {
      "cell_type": "markdown",
      "id": "e0e59034",
      "metadata": {
        "papermill": {
          "duration": 0.527917,
          "end_time": "2022-12-01T10:45:16.177529",
          "exception": false,
          "start_time": "2022-12-01T10:45:15.649612",
          "status": "completed"
        },
        "tags": [],
        "id": "e0e59034"
      },
      "source": [
        "**Some  Preprocessing steps**"
      ]
    },
    {
      "cell_type": "code",
      "execution_count": 57,
      "id": "0ec0a4e6",
      "metadata": {
        "execution": {
          "iopub.execute_input": "2022-12-01T10:45:17.267294Z",
          "iopub.status.busy": "2022-12-01T10:45:17.266346Z",
          "iopub.status.idle": "2022-12-01T10:45:17.278679Z",
          "shell.execute_reply": "2022-12-01T10:45:17.277725Z"
        },
        "papermill": {
          "duration": 0.557601,
          "end_time": "2022-12-01T10:45:17.281024",
          "exception": false,
          "start_time": "2022-12-01T10:45:16.723423",
          "status": "completed"
        },
        "tags": [],
        "id": "0ec0a4e6",
        "outputId": "9d55ecd2-e992-4d3e-cd16-7882b7b49f07",
        "colab": {
          "base_uri": "https://localhost:8080/",
          "height": 458
        }
      },
      "outputs": [
        {
          "output_type": "execute_result",
          "data": {
            "text/plain": [
              "0        uttarakhand: man, 39, held for killing consta...\n",
              "1        nashik city: another theft from parked car, s...\n",
              "2        pune: externed criminal jumps from bus fearin...\n",
              "3        gaya woman burned alive on suspicion of witch...\n",
              "4                 man held on charge of stalking in pune \n",
              "                              ...                        \n",
              "7612     mumbai: borivli businessman duped of rs 1 lak...\n",
              "7613     former new york governor cuomo accused of gro...\n",
              "7614     delhi cop and neighbour injured in shooting; ...\n",
              "7615     illegal granite mining in tn: ed tags assets ...\n",
              "7616     pramod sawant asks goa police to ‘zero down’ ...\n",
              "Name: heading, Length: 7617, dtype: object"
            ],
            "text/html": [
              "<div>\n",
              "<style scoped>\n",
              "    .dataframe tbody tr th:only-of-type {\n",
              "        vertical-align: middle;\n",
              "    }\n",
              "\n",
              "    .dataframe tbody tr th {\n",
              "        vertical-align: top;\n",
              "    }\n",
              "\n",
              "    .dataframe thead th {\n",
              "        text-align: right;\n",
              "    }\n",
              "</style>\n",
              "<table border=\"1\" class=\"dataframe\">\n",
              "  <thead>\n",
              "    <tr style=\"text-align: right;\">\n",
              "      <th></th>\n",
              "      <th>heading</th>\n",
              "    </tr>\n",
              "  </thead>\n",
              "  <tbody>\n",
              "    <tr>\n",
              "      <th>0</th>\n",
              "      <td>uttarakhand: man, 39, held for killing consta...</td>\n",
              "    </tr>\n",
              "    <tr>\n",
              "      <th>1</th>\n",
              "      <td>nashik city: another theft from parked car, s...</td>\n",
              "    </tr>\n",
              "    <tr>\n",
              "      <th>2</th>\n",
              "      <td>pune: externed criminal jumps from bus fearin...</td>\n",
              "    </tr>\n",
              "    <tr>\n",
              "      <th>3</th>\n",
              "      <td>gaya woman burned alive on suspicion of witch...</td>\n",
              "    </tr>\n",
              "    <tr>\n",
              "      <th>4</th>\n",
              "      <td>man held on charge of stalking in pune</td>\n",
              "    </tr>\n",
              "    <tr>\n",
              "      <th>...</th>\n",
              "      <td>...</td>\n",
              "    </tr>\n",
              "    <tr>\n",
              "      <th>7612</th>\n",
              "      <td>mumbai: borivli businessman duped of rs 1 lak...</td>\n",
              "    </tr>\n",
              "    <tr>\n",
              "      <th>7613</th>\n",
              "      <td>former new york governor cuomo accused of gro...</td>\n",
              "    </tr>\n",
              "    <tr>\n",
              "      <th>7614</th>\n",
              "      <td>delhi cop and neighbour injured in shooting; ...</td>\n",
              "    </tr>\n",
              "    <tr>\n",
              "      <th>7615</th>\n",
              "      <td>illegal granite mining in tn: ed tags assets ...</td>\n",
              "    </tr>\n",
              "    <tr>\n",
              "      <th>7616</th>\n",
              "      <td>pramod sawant asks goa police to ‘zero down’ ...</td>\n",
              "    </tr>\n",
              "  </tbody>\n",
              "</table>\n",
              "<p>7617 rows × 1 columns</p>\n",
              "</div><br><label><b>dtype:</b> object</label>"
            ]
          },
          "metadata": {},
          "execution_count": 57
        }
      ],
      "source": [
        " # converting heading column to lower case\n",
        "\n",
        "df[\"heading\"].str.lower()"
      ]
    },
    {
      "cell_type": "code",
      "execution_count": 58,
      "id": "35b51998",
      "metadata": {
        "execution": {
          "iopub.execute_input": "2022-12-01T10:45:18.342221Z",
          "iopub.status.busy": "2022-12-01T10:45:18.341353Z",
          "iopub.status.idle": "2022-12-01T10:45:18.359804Z",
          "shell.execute_reply": "2022-12-01T10:45:18.358896Z"
        },
        "papermill": {
          "duration": 0.550377,
          "end_time": "2022-12-01T10:45:18.362144",
          "exception": false,
          "start_time": "2022-12-01T10:45:17.811767",
          "status": "completed"
        },
        "tags": [],
        "id": "35b51998",
        "outputId": "aa005d9c-8126-48ef-ad2b-3b5b47f532fc",
        "colab": {
          "base_uri": "https://localhost:8080/",
          "height": 458
        }
      },
      "outputs": [
        {
          "output_type": "execute_result",
          "data": {
            "text/plain": [
              "0        nainital district police on monday arrested a...\n",
              "1        thefts from parked cars continues in the city...\n",
              "2        an externed criminal died in the early hours ...\n",
              "3        a middle-aged woman was badly thrashed and bu...\n",
              "4        a man (33) was arrested on tuesday from khed ...\n",
              "                              ...                        \n",
              "7612     a smalltime businessman from borivli was dupe...\n",
              "7613     the filing from the albany county sheriff's o...\n",
              "7614     a policeman and his neighbour were shot at by...\n",
              "7615     the enforcement directorate (ed) has told the...\n",
              "7616     chief minister pramod sawant on friday held a...\n",
              "Name: content_summary, Length: 7617, dtype: object"
            ],
            "text/html": [
              "<div>\n",
              "<style scoped>\n",
              "    .dataframe tbody tr th:only-of-type {\n",
              "        vertical-align: middle;\n",
              "    }\n",
              "\n",
              "    .dataframe tbody tr th {\n",
              "        vertical-align: top;\n",
              "    }\n",
              "\n",
              "    .dataframe thead th {\n",
              "        text-align: right;\n",
              "    }\n",
              "</style>\n",
              "<table border=\"1\" class=\"dataframe\">\n",
              "  <thead>\n",
              "    <tr style=\"text-align: right;\">\n",
              "      <th></th>\n",
              "      <th>content_summary</th>\n",
              "    </tr>\n",
              "  </thead>\n",
              "  <tbody>\n",
              "    <tr>\n",
              "      <th>0</th>\n",
              "      <td>nainital district police on monday arrested a...</td>\n",
              "    </tr>\n",
              "    <tr>\n",
              "      <th>1</th>\n",
              "      <td>thefts from parked cars continues in the city...</td>\n",
              "    </tr>\n",
              "    <tr>\n",
              "      <th>2</th>\n",
              "      <td>an externed criminal died in the early hours ...</td>\n",
              "    </tr>\n",
              "    <tr>\n",
              "      <th>3</th>\n",
              "      <td>a middle-aged woman was badly thrashed and bu...</td>\n",
              "    </tr>\n",
              "    <tr>\n",
              "      <th>4</th>\n",
              "      <td>a man (33) was arrested on tuesday from khed ...</td>\n",
              "    </tr>\n",
              "    <tr>\n",
              "      <th>...</th>\n",
              "      <td>...</td>\n",
              "    </tr>\n",
              "    <tr>\n",
              "      <th>7612</th>\n",
              "      <td>a smalltime businessman from borivli was dupe...</td>\n",
              "    </tr>\n",
              "    <tr>\n",
              "      <th>7613</th>\n",
              "      <td>the filing from the albany county sheriff's o...</td>\n",
              "    </tr>\n",
              "    <tr>\n",
              "      <th>7614</th>\n",
              "      <td>a policeman and his neighbour were shot at by...</td>\n",
              "    </tr>\n",
              "    <tr>\n",
              "      <th>7615</th>\n",
              "      <td>the enforcement directorate (ed) has told the...</td>\n",
              "    </tr>\n",
              "    <tr>\n",
              "      <th>7616</th>\n",
              "      <td>chief minister pramod sawant on friday held a...</td>\n",
              "    </tr>\n",
              "  </tbody>\n",
              "</table>\n",
              "<p>7617 rows × 1 columns</p>\n",
              "</div><br><label><b>dtype:</b> object</label>"
            ]
          },
          "metadata": {},
          "execution_count": 58
        }
      ],
      "source": [
        "#converting heading column to lower case\n",
        "\n",
        "df[\"content_summary\"].str.lower()"
      ]
    },
    {
      "cell_type": "code",
      "execution_count": 59,
      "id": "2aeddc90",
      "metadata": {
        "execution": {
          "iopub.execute_input": "2022-12-01T10:45:19.427181Z",
          "iopub.status.busy": "2022-12-01T10:45:19.426301Z",
          "iopub.status.idle": "2022-12-01T10:45:19.431599Z",
          "shell.execute_reply": "2022-12-01T10:45:19.430670Z"
        },
        "papermill": {
          "duration": 0.537857,
          "end_time": "2022-12-01T10:45:19.434146",
          "exception": false,
          "start_time": "2022-12-01T10:45:18.896289",
          "status": "completed"
        },
        "tags": [],
        "id": "2aeddc90"
      },
      "outputs": [],
      "source": [
        "#Tag Removing Function (for safety purpose)\n",
        "\n",
        "def remove_tags(text):\n",
        "    pattern=re.compile(\"<.-*?>\")\n",
        "    return pattern.sub(r'',text)"
      ]
    },
    {
      "cell_type": "code",
      "execution_count": 60,
      "id": "ab84b13c",
      "metadata": {
        "execution": {
          "iopub.execute_input": "2022-12-01T10:45:20.495651Z",
          "iopub.status.busy": "2022-12-01T10:45:20.494426Z",
          "iopub.status.idle": "2022-12-01T10:45:20.527357Z",
          "shell.execute_reply": "2022-12-01T10:45:20.526196Z"
        },
        "papermill": {
          "duration": 0.571642,
          "end_time": "2022-12-01T10:45:20.529767",
          "exception": false,
          "start_time": "2022-12-01T10:45:19.958125",
          "status": "completed"
        },
        "tags": [],
        "id": "ab84b13c",
        "outputId": "92ca5a61-42af-4b3f-b4a0-af79cc84ea57",
        "colab": {
          "base_uri": "https://localhost:8080/",
          "height": 458
        }
      },
      "outputs": [
        {
          "output_type": "execute_result",
          "data": {
            "text/plain": [
              "0        Uttarakhand: Man, 39, held for killing consta...\n",
              "1        Nashik city: Another theft from parked car, s...\n",
              "2        Pune: Externed criminal jumps from bus fearin...\n",
              "3        Gaya woman burned alive on suspicion of witch...\n",
              "4                 Man held on charge of stalking in Pune \n",
              "                              ...                        \n",
              "7612     Mumbai: Borivli businessman duped of Rs 1 lak...\n",
              "7613     Former New York governor Cuomo accused of gro...\n",
              "7614     Delhi cop and neighbour injured in shooting; ...\n",
              "7615     Illegal granite mining in TN: ED tags assets ...\n",
              "7616     Pramod Sawant asks Goa police to ‘zero down’ ...\n",
              "Name: heading, Length: 7617, dtype: object"
            ],
            "text/html": [
              "<div>\n",
              "<style scoped>\n",
              "    .dataframe tbody tr th:only-of-type {\n",
              "        vertical-align: middle;\n",
              "    }\n",
              "\n",
              "    .dataframe tbody tr th {\n",
              "        vertical-align: top;\n",
              "    }\n",
              "\n",
              "    .dataframe thead th {\n",
              "        text-align: right;\n",
              "    }\n",
              "</style>\n",
              "<table border=\"1\" class=\"dataframe\">\n",
              "  <thead>\n",
              "    <tr style=\"text-align: right;\">\n",
              "      <th></th>\n",
              "      <th>heading</th>\n",
              "    </tr>\n",
              "  </thead>\n",
              "  <tbody>\n",
              "    <tr>\n",
              "      <th>0</th>\n",
              "      <td>Uttarakhand: Man, 39, held for killing consta...</td>\n",
              "    </tr>\n",
              "    <tr>\n",
              "      <th>1</th>\n",
              "      <td>Nashik city: Another theft from parked car, s...</td>\n",
              "    </tr>\n",
              "    <tr>\n",
              "      <th>2</th>\n",
              "      <td>Pune: Externed criminal jumps from bus fearin...</td>\n",
              "    </tr>\n",
              "    <tr>\n",
              "      <th>3</th>\n",
              "      <td>Gaya woman burned alive on suspicion of witch...</td>\n",
              "    </tr>\n",
              "    <tr>\n",
              "      <th>4</th>\n",
              "      <td>Man held on charge of stalking in Pune</td>\n",
              "    </tr>\n",
              "    <tr>\n",
              "      <th>...</th>\n",
              "      <td>...</td>\n",
              "    </tr>\n",
              "    <tr>\n",
              "      <th>7612</th>\n",
              "      <td>Mumbai: Borivli businessman duped of Rs 1 lak...</td>\n",
              "    </tr>\n",
              "    <tr>\n",
              "      <th>7613</th>\n",
              "      <td>Former New York governor Cuomo accused of gro...</td>\n",
              "    </tr>\n",
              "    <tr>\n",
              "      <th>7614</th>\n",
              "      <td>Delhi cop and neighbour injured in shooting; ...</td>\n",
              "    </tr>\n",
              "    <tr>\n",
              "      <th>7615</th>\n",
              "      <td>Illegal granite mining in TN: ED tags assets ...</td>\n",
              "    </tr>\n",
              "    <tr>\n",
              "      <th>7616</th>\n",
              "      <td>Pramod Sawant asks Goa police to ‘zero down’ ...</td>\n",
              "    </tr>\n",
              "  </tbody>\n",
              "</table>\n",
              "<p>7617 rows × 1 columns</p>\n",
              "</div><br><label><b>dtype:</b> object</label>"
            ]
          },
          "metadata": {},
          "execution_count": 60
        }
      ],
      "source": [
        "#Tag Removal operation\n",
        "\n",
        "df['heading']=df['heading'].apply(remove_tags)\n",
        "\n",
        "df[\"content_summary\"]=df[\"content_summary\"].apply(remove_tags)\n",
        "\n",
        "df[\"heading\"]"
      ]
    },
    {
      "cell_type": "markdown",
      "id": "8d867682",
      "metadata": {
        "papermill": {
          "duration": 0.52186,
          "end_time": "2022-12-01T10:45:21.582522",
          "exception": false,
          "start_time": "2022-12-01T10:45:21.060662",
          "status": "completed"
        },
        "tags": [],
        "id": "8d867682"
      },
      "source": [
        "**Removing Punctuation**"
      ]
    },
    {
      "cell_type": "code",
      "execution_count": 61,
      "id": "9ddaf013",
      "metadata": {
        "execution": {
          "iopub.execute_input": "2022-12-01T10:45:22.639649Z",
          "iopub.status.busy": "2022-12-01T10:45:22.638270Z",
          "iopub.status.idle": "2022-12-01T10:45:22.644149Z",
          "shell.execute_reply": "2022-12-01T10:45:22.643202Z"
        },
        "papermill": {
          "duration": 0.539099,
          "end_time": "2022-12-01T10:45:22.646809",
          "exception": false,
          "start_time": "2022-12-01T10:45:22.107710",
          "status": "completed"
        },
        "tags": [],
        "id": "9ddaf013"
      },
      "outputs": [],
      "source": [
        "#Getting all the punctuation\n",
        "punctuation=string.punctuation"
      ]
    },
    {
      "cell_type": "code",
      "execution_count": 62,
      "id": "ae5d3ebb",
      "metadata": {
        "execution": {
          "iopub.execute_input": "2022-12-01T10:45:23.710733Z",
          "iopub.status.busy": "2022-12-01T10:45:23.710144Z",
          "iopub.status.idle": "2022-12-01T10:45:23.714771Z",
          "shell.execute_reply": "2022-12-01T10:45:23.713893Z"
        },
        "papermill": {
          "duration": 0.536643,
          "end_time": "2022-12-01T10:45:23.717167",
          "exception": false,
          "start_time": "2022-12-01T10:45:23.180524",
          "status": "completed"
        },
        "tags": [],
        "id": "ae5d3ebb"
      },
      "outputs": [],
      "source": [
        "# Implementing String Removing\n",
        "def remove_punc(text):\n",
        "\n",
        "    return  text.translate(str.maketrans('','',punctuation))"
      ]
    },
    {
      "cell_type": "code",
      "execution_count": 63,
      "id": "b4f13b4b",
      "metadata": {
        "execution": {
          "iopub.execute_input": "2022-12-01T10:45:24.761600Z",
          "iopub.status.busy": "2022-12-01T10:45:24.760869Z",
          "iopub.status.idle": "2022-12-01T10:45:24.871030Z",
          "shell.execute_reply": "2022-12-01T10:45:24.869995Z"
        },
        "papermill": {
          "duration": 0.629082,
          "end_time": "2022-12-01T10:45:24.873556",
          "exception": false,
          "start_time": "2022-12-01T10:45:24.244474",
          "status": "completed"
        },
        "tags": [],
        "id": "b4f13b4b"
      },
      "outputs": [],
      "source": [
        "df['heading']=df['heading'].apply(remove_punc)\n",
        "\n",
        "df[\"content_summary\"]=df[\"content_summary\"].apply(remove_punc)"
      ]
    },
    {
      "cell_type": "code",
      "execution_count": 64,
      "id": "f95019c5",
      "metadata": {
        "execution": {
          "iopub.execute_input": "2022-12-01T10:45:25.928665Z",
          "iopub.status.busy": "2022-12-01T10:45:25.927670Z",
          "iopub.status.idle": "2022-12-01T10:45:25.936417Z",
          "shell.execute_reply": "2022-12-01T10:45:25.935492Z"
        },
        "papermill": {
          "duration": 0.536094,
          "end_time": "2022-12-01T10:45:25.939061",
          "exception": false,
          "start_time": "2022-12-01T10:45:25.402967",
          "status": "completed"
        },
        "tags": [],
        "id": "f95019c5",
        "outputId": "42df2ec8-f4bd-4a1b-b432-9d0ed8ddf07b",
        "colab": {
          "base_uri": "https://localhost:8080/",
          "height": 458
        }
      },
      "outputs": [
        {
          "output_type": "execute_result",
          "data": {
            "text/plain": [
              "0        Uttarakhand Man 39 held for killing constable...\n",
              "1        Nashik city Another theft from parked car sev...\n",
              "2        Pune Externed criminal jumps from bus fearing...\n",
              "3        Gaya woman burned alive on suspicion of witch...\n",
              "4                 Man held on charge of stalking in Pune \n",
              "                              ...                        \n",
              "7612     Mumbai Borivli businessman duped of Rs 1 lakh...\n",
              "7613     Former New York governor Cuomo accused of gro...\n",
              "7614     Delhi cop and neighbour injured in shooting g...\n",
              "7615     Illegal granite mining in TN ED tags assets w...\n",
              "7616     Pramod Sawant asks Goa police to ‘zero down’ ...\n",
              "Name: heading, Length: 7617, dtype: object"
            ],
            "text/html": [
              "<div>\n",
              "<style scoped>\n",
              "    .dataframe tbody tr th:only-of-type {\n",
              "        vertical-align: middle;\n",
              "    }\n",
              "\n",
              "    .dataframe tbody tr th {\n",
              "        vertical-align: top;\n",
              "    }\n",
              "\n",
              "    .dataframe thead th {\n",
              "        text-align: right;\n",
              "    }\n",
              "</style>\n",
              "<table border=\"1\" class=\"dataframe\">\n",
              "  <thead>\n",
              "    <tr style=\"text-align: right;\">\n",
              "      <th></th>\n",
              "      <th>heading</th>\n",
              "    </tr>\n",
              "  </thead>\n",
              "  <tbody>\n",
              "    <tr>\n",
              "      <th>0</th>\n",
              "      <td>Uttarakhand Man 39 held for killing constable...</td>\n",
              "    </tr>\n",
              "    <tr>\n",
              "      <th>1</th>\n",
              "      <td>Nashik city Another theft from parked car sev...</td>\n",
              "    </tr>\n",
              "    <tr>\n",
              "      <th>2</th>\n",
              "      <td>Pune Externed criminal jumps from bus fearing...</td>\n",
              "    </tr>\n",
              "    <tr>\n",
              "      <th>3</th>\n",
              "      <td>Gaya woman burned alive on suspicion of witch...</td>\n",
              "    </tr>\n",
              "    <tr>\n",
              "      <th>4</th>\n",
              "      <td>Man held on charge of stalking in Pune</td>\n",
              "    </tr>\n",
              "    <tr>\n",
              "      <th>...</th>\n",
              "      <td>...</td>\n",
              "    </tr>\n",
              "    <tr>\n",
              "      <th>7612</th>\n",
              "      <td>Mumbai Borivli businessman duped of Rs 1 lakh...</td>\n",
              "    </tr>\n",
              "    <tr>\n",
              "      <th>7613</th>\n",
              "      <td>Former New York governor Cuomo accused of gro...</td>\n",
              "    </tr>\n",
              "    <tr>\n",
              "      <th>7614</th>\n",
              "      <td>Delhi cop and neighbour injured in shooting g...</td>\n",
              "    </tr>\n",
              "    <tr>\n",
              "      <th>7615</th>\n",
              "      <td>Illegal granite mining in TN ED tags assets w...</td>\n",
              "    </tr>\n",
              "    <tr>\n",
              "      <th>7616</th>\n",
              "      <td>Pramod Sawant asks Goa police to ‘zero down’ ...</td>\n",
              "    </tr>\n",
              "  </tbody>\n",
              "</table>\n",
              "<p>7617 rows × 1 columns</p>\n",
              "</div><br><label><b>dtype:</b> object</label>"
            ]
          },
          "metadata": {},
          "execution_count": 64
        }
      ],
      "source": [
        "df[\"heading\"]"
      ]
    },
    {
      "cell_type": "markdown",
      "id": "46a892db",
      "metadata": {
        "papermill": {
          "duration": 0.534788,
          "end_time": "2022-12-01T10:45:26.999540",
          "exception": false,
          "start_time": "2022-12-01T10:45:26.464752",
          "status": "completed"
        },
        "tags": [],
        "id": "46a892db"
      },
      "source": [
        "## stemming and Lemmatization"
      ]
    },
    {
      "cell_type": "markdown",
      "id": "fa6c4803",
      "metadata": {
        "papermill": {
          "duration": 0.528348,
          "end_time": "2022-12-01T10:45:28.069728",
          "exception": false,
          "start_time": "2022-12-01T10:45:27.541380",
          "status": "completed"
        },
        "tags": [],
        "id": "fa6c4803"
      },
      "source": [
        "**What is Stemming?**"
      ]
    },
    {
      "cell_type": "markdown",
      "id": "1262fb85",
      "metadata": {
        "papermill": {
          "duration": 0.53099,
          "end_time": "2022-12-01T10:45:29.153420",
          "exception": false,
          "start_time": "2022-12-01T10:45:28.622430",
          "status": "completed"
        },
        "tags": [],
        "id": "1262fb85"
      },
      "source": [
        "-Stemming is the process of producing morphological variants of a root/base word. Stemming programs are commonly referred to as stemming algorithms or stemmers .\n",
        "\n",
        "-A stemming algorithm reduces the words “chocolates”, “chocolatey”, “**choco**” to the root word, “chocolate” and “retrieval”, “retrieved”, “retrieves” reduce to the stem “**retrieve**”."
      ]
    },
    {
      "cell_type": "code",
      "execution_count": 65,
      "id": "7fa4355e",
      "metadata": {
        "execution": {
          "iopub.execute_input": "2022-12-01T10:45:30.208869Z",
          "iopub.status.busy": "2022-12-01T10:45:30.208466Z",
          "iopub.status.idle": "2022-12-01T10:45:30.215295Z",
          "shell.execute_reply": "2022-12-01T10:45:30.214447Z"
        },
        "papermill": {
          "duration": 0.537771,
          "end_time": "2022-12-01T10:45:30.217587",
          "exception": false,
          "start_time": "2022-12-01T10:45:29.679816",
          "status": "completed"
        },
        "tags": [],
        "id": "7fa4355e",
        "outputId": "bac6db3d-5ad1-49ce-9f55-267e14085b1b",
        "colab": {
          "base_uri": "https://localhost:8080/",
          "height": 36
        }
      },
      "outputs": [
        {
          "output_type": "execute_result",
          "data": {
            "text/plain": [
              "'danc'"
            ],
            "application/vnd.google.colaboratory.intrinsic+json": {
              "type": "string"
            }
          },
          "metadata": {},
          "execution_count": 65
        }
      ],
      "source": [
        "#Example of Stemming\n",
        "from nltk.stem import PorterStemmer\n",
        "porter = PorterStemmer()\n",
        "porter.stem('dancing')\n",
        "\n",
        "# porter.stem('running')  o/p- run\n",
        "#it used for finding root word"
      ]
    },
    {
      "cell_type": "markdown",
      "id": "908855f5",
      "metadata": {
        "execution": {
          "iopub.execute_input": "2022-10-14T15:26:17.500995Z",
          "iopub.status.busy": "2022-10-14T15:26:17.500582Z",
          "iopub.status.idle": "2022-10-14T15:26:17.507726Z",
          "shell.execute_reply": "2022-10-14T15:26:17.506205Z",
          "shell.execute_reply.started": "2022-10-14T15:26:17.500960Z"
        },
        "papermill": {
          "duration": 0.517268,
          "end_time": "2022-12-01T10:45:31.255521",
          "exception": false,
          "start_time": "2022-12-01T10:45:30.738253",
          "status": "completed"
        },
        "tags": [],
        "id": "908855f5"
      },
      "source": [
        "**What is Lemmatization ?**"
      ]
    },
    {
      "cell_type": "markdown",
      "id": "211fc906",
      "metadata": {
        "papermill": {
          "duration": 0.524333,
          "end_time": "2022-12-01T10:45:32.299226",
          "exception": false,
          "start_time": "2022-12-01T10:45:31.774893",
          "status": "completed"
        },
        "tags": [],
        "id": "211fc906"
      },
      "source": [
        "-Lemmatization is the process of grouping together the different inflected forms of a word so they can be analyzed as a single item.\n",
        "\n",
        "-Lemmatization is similar to stemming but it brings context to the words. So it **links words with similar meanings to one word**."
      ]
    },
    {
      "cell_type": "code",
      "execution_count": 70,
      "id": "96d58da6",
      "metadata": {
        "execution": {
          "iopub.execute_input": "2022-12-01T10:45:33.349355Z",
          "iopub.status.busy": "2022-12-01T10:45:33.348534Z",
          "iopub.status.idle": "2022-12-01T10:45:33.639537Z",
          "shell.execute_reply": "2022-12-01T10:45:33.638138Z"
        },
        "papermill": {
          "duration": 0.822238,
          "end_time": "2022-12-01T10:45:33.642236",
          "exception": false,
          "start_time": "2022-12-01T10:45:32.819998",
          "status": "completed"
        },
        "tags": [],
        "id": "96d58da6",
        "outputId": "4a47d69d-a2f9-46b7-82cd-73b11c936ce1",
        "colab": {
          "base_uri": "https://localhost:8080/"
        }
      },
      "outputs": [
        {
          "output_type": "stream",
          "name": "stderr",
          "text": [
            "[nltk_data] Downloading package wordnet to /root/nltk_data...\n",
            "[nltk_data]   Package wordnet is already up-to-date!\n"
          ]
        },
        {
          "output_type": "execute_result",
          "data": {
            "text/plain": [
              "True"
            ]
          },
          "metadata": {},
          "execution_count": 70
        }
      ],
      "source": [
        "import nltk\n",
        "nltk.download('wordnet')"
      ]
    },
    {
      "cell_type": "code",
      "execution_count": 71,
      "id": "188fb02d",
      "metadata": {
        "execution": {
          "iopub.execute_input": "2022-12-01T10:45:34.718141Z",
          "iopub.status.busy": "2022-12-01T10:45:34.717662Z",
          "iopub.status.idle": "2022-12-01T10:45:36.762123Z",
          "shell.execute_reply": "2022-12-01T10:45:36.760752Z"
        },
        "papermill": {
          "duration": 2.581773,
          "end_time": "2022-12-01T10:45:36.765201",
          "exception": false,
          "start_time": "2022-12-01T10:45:34.183428",
          "status": "completed"
        },
        "tags": [],
        "id": "188fb02d",
        "outputId": "bd96c319-b9e9-4799-e1e0-c188bf9fa24d",
        "colab": {
          "base_uri": "https://localhost:8080/"
        }
      },
      "outputs": [
        {
          "output_type": "stream",
          "name": "stdout",
          "text": [
            "cat\n",
            "cactus\n",
            "goose\n",
            "rock\n",
            "python\n",
            "good\n",
            "best\n",
            "run\n",
            "run\n"
          ]
        }
      ],
      "source": [
        "#Examples of Lemmatization\n",
        "\n",
        "from nltk.stem import WordNetLemmatizer\n",
        "\n",
        "lemmatizer = WordNetLemmatizer()\n",
        "\n",
        "print(lemmatizer.lemmatize(\"cats\"))\n",
        "\n",
        "print(lemmatizer.lemmatize(\"cacti\"))\n",
        "\n",
        "print(lemmatizer.lemmatize(\"geese\"))\n",
        "\n",
        "print(lemmatizer.lemmatize(\"rocks\"))\n",
        "\n",
        "print(lemmatizer.lemmatize(\"python\"))\n",
        "\n",
        "print(lemmatizer.lemmatize(\"better\", pos=\"a\"))\n",
        "\n",
        "print(lemmatizer.lemmatize(\"best\", pos=\"a\"))\n",
        "\n",
        "print(lemmatizer.lemmatize(\"run\"))\n",
        "\n",
        "print(lemmatizer.lemmatize(\"run\",'v'))\n",
        "\n"
      ]
    },
    {
      "cell_type": "markdown",
      "id": "67f4c555",
      "metadata": {
        "papermill": {
          "duration": 0.516959,
          "end_time": "2022-12-01T10:45:37.831371",
          "exception": false,
          "start_time": "2022-12-01T10:45:37.314412",
          "status": "completed"
        },
        "tags": [],
        "id": "67f4c555"
      },
      "source": [
        "## Building our recommendation model"
      ]
    },
    {
      "cell_type": "code",
      "execution_count": 72,
      "id": "5c334cfb",
      "metadata": {
        "execution": {
          "iopub.execute_input": "2022-12-01T10:45:38.897976Z",
          "iopub.status.busy": "2022-12-01T10:45:38.897188Z",
          "iopub.status.idle": "2022-12-01T10:45:38.902307Z",
          "shell.execute_reply": "2022-12-01T10:45:38.901448Z"
        },
        "papermill": {
          "duration": 0.544409,
          "end_time": "2022-12-01T10:45:38.904659",
          "exception": false,
          "start_time": "2022-12-01T10:45:38.360250",
          "status": "completed"
        },
        "tags": [],
        "id": "5c334cfb"
      },
      "outputs": [],
      "source": [
        "#Stemming\n",
        "\n",
        "def stem(text):\n",
        "    lst=[]\n",
        "    for i in text.split():\n",
        "        lst.append(ps.stem(i))\n",
        "    return \" \".join(lst)"
      ]
    },
    {
      "cell_type": "code",
      "execution_count": 73,
      "id": "27e3ceaf",
      "metadata": {
        "execution": {
          "iopub.execute_input": "2022-12-01T10:45:39.950171Z",
          "iopub.status.busy": "2022-12-01T10:45:39.949410Z",
          "iopub.status.idle": "2022-12-01T10:45:39.959015Z",
          "shell.execute_reply": "2022-12-01T10:45:39.957966Z"
        },
        "papermill": {
          "duration": 0.53495,
          "end_time": "2022-12-01T10:45:39.961787",
          "exception": false,
          "start_time": "2022-12-01T10:45:39.426837",
          "status": "completed"
        },
        "tags": [],
        "id": "27e3ceaf"
      },
      "outputs": [],
      "source": [
        "df[\"heading\"]=df[\"heading\"].apply(lambda x:x.lower())"
      ]
    },
    {
      "cell_type": "markdown",
      "id": "276cf149",
      "metadata": {
        "papermill": {
          "duration": 0.516542,
          "end_time": "2022-12-01T10:45:41.001881",
          "exception": false,
          "start_time": "2022-12-01T10:45:40.485339",
          "status": "completed"
        },
        "tags": [],
        "id": "276cf149"
      },
      "source": [
        "## Removing Stop Words"
      ]
    },
    {
      "cell_type": "markdown",
      "id": "460f1519",
      "metadata": {
        "papermill": {
          "duration": 0.522925,
          "end_time": "2022-12-01T10:45:42.045912",
          "exception": false,
          "start_time": "2022-12-01T10:45:41.522987",
          "status": "completed"
        },
        "tags": [],
        "id": "460f1519"
      },
      "source": [
        "**Stop Words**: A stop word is a commonly used word (such as “the”, “a”, “an”, “in”) that a search engine has been programmed to ignore, both when indexing entries for searching and when retrieving them as the result of a search query ."
      ]
    },
    {
      "cell_type": "code",
      "execution_count": 74,
      "id": "c81f8492",
      "metadata": {
        "execution": {
          "iopub.execute_input": "2022-12-01T10:45:43.099969Z",
          "iopub.status.busy": "2022-12-01T10:45:43.099554Z",
          "iopub.status.idle": "2022-12-01T10:45:43.104947Z",
          "shell.execute_reply": "2022-12-01T10:45:43.103755Z"
        },
        "papermill": {
          "duration": 0.539078,
          "end_time": "2022-12-01T10:45:43.107526",
          "exception": false,
          "start_time": "2022-12-01T10:45:42.568448",
          "status": "completed"
        },
        "tags": [],
        "id": "c81f8492"
      },
      "outputs": [],
      "source": [
        "from sklearn.feature_extraction.text import CountVectorizer\n",
        "\n",
        "cv=CountVectorizer(max_features=5000,stop_words=\"english\")"
      ]
    },
    {
      "cell_type": "code",
      "execution_count": 75,
      "id": "8ca0e80f",
      "metadata": {
        "execution": {
          "iopub.execute_input": "2022-12-01T10:45:44.173070Z",
          "iopub.status.busy": "2022-12-01T10:45:44.172245Z",
          "iopub.status.idle": "2022-12-01T10:45:44.398247Z",
          "shell.execute_reply": "2022-12-01T10:45:44.397113Z"
        },
        "papermill": {
          "duration": 0.75725,
          "end_time": "2022-12-01T10:45:44.400886",
          "exception": false,
          "start_time": "2022-12-01T10:45:43.643636",
          "status": "completed"
        },
        "tags": [],
        "id": "8ca0e80f"
      },
      "outputs": [],
      "source": [
        "# Converting headings into array\n",
        "vectors=cv.fit_transform(df[\"heading\"]).toarray()"
      ]
    },
    {
      "cell_type": "code",
      "execution_count": 76,
      "id": "072ebdd0",
      "metadata": {
        "execution": {
          "iopub.execute_input": "2022-12-01T10:45:45.457291Z",
          "iopub.status.busy": "2022-12-01T10:45:45.456846Z",
          "iopub.status.idle": "2022-12-01T10:45:45.464385Z",
          "shell.execute_reply": "2022-12-01T10:45:45.463228Z"
        },
        "papermill": {
          "duration": 0.541223,
          "end_time": "2022-12-01T10:45:45.467204",
          "exception": false,
          "start_time": "2022-12-01T10:45:44.925981",
          "status": "completed"
        },
        "tags": [],
        "id": "072ebdd0",
        "outputId": "c4c89114-23ff-4829-91a3-0e0862e3aead",
        "colab": {
          "base_uri": "https://localhost:8080/"
        }
      },
      "outputs": [
        {
          "output_type": "execute_result",
          "data": {
            "text/plain": [
              "(7617, 5000)"
            ]
          },
          "metadata": {},
          "execution_count": 76
        }
      ],
      "source": [
        "#Getting shape of vector\n",
        "vectors.shape"
      ]
    },
    {
      "cell_type": "code",
      "execution_count": 77,
      "id": "fd7616ce",
      "metadata": {
        "execution": {
          "iopub.execute_input": "2022-12-01T10:45:46.540237Z",
          "iopub.status.busy": "2022-12-01T10:45:46.539772Z",
          "iopub.status.idle": "2022-12-01T10:45:46.547140Z",
          "shell.execute_reply": "2022-12-01T10:45:46.546037Z"
        },
        "papermill": {
          "duration": 0.550353,
          "end_time": "2022-12-01T10:45:46.549593",
          "exception": false,
          "start_time": "2022-12-01T10:45:45.999240",
          "status": "completed"
        },
        "tags": [],
        "id": "fd7616ce",
        "outputId": "8617830f-9d3f-4760-b593-41bdb0b31f68",
        "colab": {
          "base_uri": "https://localhost:8080/"
        }
      },
      "outputs": [
        {
          "output_type": "execute_result",
          "data": {
            "text/plain": [
              "array([[0, 0, 0, ..., 0, 0, 0],\n",
              "       [0, 0, 0, ..., 0, 0, 0],\n",
              "       [0, 0, 0, ..., 0, 0, 0],\n",
              "       ...,\n",
              "       [0, 0, 0, ..., 0, 0, 0],\n",
              "       [0, 0, 0, ..., 0, 0, 0],\n",
              "       [0, 0, 0, ..., 0, 0, 0]])"
            ]
          },
          "metadata": {},
          "execution_count": 77
        }
      ],
      "source": [
        "vectors"
      ]
    },
    {
      "cell_type": "code",
      "execution_count": 79,
      "id": "b74dd576",
      "metadata": {
        "execution": {
          "iopub.execute_input": "2022-12-01T10:45:47.622374Z",
          "iopub.status.busy": "2022-12-01T10:45:47.621964Z",
          "iopub.status.idle": "2022-12-01T10:45:47.649765Z",
          "shell.execute_reply": "2022-12-01T10:45:47.647996Z"
        },
        "papermill": {
          "duration": 0.559252,
          "end_time": "2022-12-01T10:45:47.652037",
          "exception": false,
          "start_time": "2022-12-01T10:45:47.092785",
          "status": "completed"
        },
        "tags": [],
        "id": "b74dd576",
        "outputId": "c1853b82-429e-48fe-d3e4-d7aca1ecadd2",
        "colab": {
          "base_uri": "https://localhost:8080/"
        }
      },
      "outputs": [
        {
          "output_type": "execute_result",
          "data": {
            "text/plain": [
              "array(['10', '100', '1000', ..., 'zila', 'zone', 'zubair'], dtype=object)"
            ]
          },
          "metadata": {},
          "execution_count": 79
        }
      ],
      "source": [
        "# Finding most commonly used 5000 words in our corpus\n",
        "\n",
        "cv.get_feature_names_out()"
      ]
    },
    {
      "cell_type": "code",
      "execution_count": 80,
      "id": "a5f58353",
      "metadata": {
        "execution": {
          "iopub.execute_input": "2022-12-01T10:45:48.707860Z",
          "iopub.status.busy": "2022-12-01T10:45:48.707426Z",
          "iopub.status.idle": "2022-12-01T10:45:53.603522Z",
          "shell.execute_reply": "2022-12-01T10:45:53.602059Z"
        },
        "papermill": {
          "duration": 5.434419,
          "end_time": "2022-12-01T10:45:53.606358",
          "exception": false,
          "start_time": "2022-12-01T10:45:48.171939",
          "status": "completed"
        },
        "tags": [],
        "id": "a5f58353"
      },
      "outputs": [],
      "source": [
        "#Finding similarity between vectors\n",
        "\n",
        "similarity=cosine_similarity(vectors)\n"
      ]
    },
    {
      "cell_type": "code",
      "execution_count": 81,
      "id": "f042921b",
      "metadata": {
        "execution": {
          "iopub.execute_input": "2022-12-01T10:45:54.661682Z",
          "iopub.status.busy": "2022-12-01T10:45:54.660723Z",
          "iopub.status.idle": "2022-12-01T10:45:54.668783Z",
          "shell.execute_reply": "2022-12-01T10:45:54.667557Z"
        },
        "papermill": {
          "duration": 0.536862,
          "end_time": "2022-12-01T10:45:54.671072",
          "exception": false,
          "start_time": "2022-12-01T10:45:54.134210",
          "status": "completed"
        },
        "tags": [],
        "id": "f042921b",
        "outputId": "f678c149-2675-4950-8d49-ffbbf05d217b",
        "colab": {
          "base_uri": "https://localhost:8080/"
        }
      },
      "outputs": [
        {
          "output_type": "execute_result",
          "data": {
            "text/plain": [
              "array([0.        , 0.        , 0.23570226, ..., 0.        , 0.        ,\n",
              "       0.        ])"
            ]
          },
          "metadata": {},
          "execution_count": 81
        }
      ],
      "source": [
        "# Acessing other similar element to \"5th heading\"\n",
        "similarity[5]"
      ]
    },
    {
      "cell_type": "code",
      "execution_count": 82,
      "id": "cd042303",
      "metadata": {
        "execution": {
          "iopub.execute_input": "2022-12-01T10:45:55.724048Z",
          "iopub.status.busy": "2022-12-01T10:45:55.723645Z",
          "iopub.status.idle": "2022-12-01T10:45:55.730417Z",
          "shell.execute_reply": "2022-12-01T10:45:55.729246Z"
        },
        "papermill": {
          "duration": 0.531724,
          "end_time": "2022-12-01T10:45:55.732701",
          "exception": false,
          "start_time": "2022-12-01T10:45:55.200977",
          "status": "completed"
        },
        "tags": [],
        "id": "cd042303"
      },
      "outputs": [],
      "source": [
        "#Recommendation Function\n",
        "\n",
        "def recommend(tag):\n",
        "\n",
        "    heading_index=df[df[\"heading\"]==tag].index[0]\n",
        "    distances=similarity[heading_index]\n",
        "    heading_list=sorted(list(enumerate(distances)),reverse=True,key=lambda x:x[1])[1:6]\n",
        "\n",
        "    for i in heading_list:\n",
        "        print(df.iloc[i[0]].heading)\n"
      ]
    },
    {
      "cell_type": "code",
      "execution_count": 83,
      "id": "8d3b1988",
      "metadata": {
        "execution": {
          "iopub.execute_input": "2022-12-01T10:45:56.777782Z",
          "iopub.status.busy": "2022-12-01T10:45:56.776999Z",
          "iopub.status.idle": "2022-12-01T10:45:56.783719Z",
          "shell.execute_reply": "2022-12-01T10:45:56.782629Z"
        },
        "papermill": {
          "duration": 0.530033,
          "end_time": "2022-12-01T10:45:56.786014",
          "exception": false,
          "start_time": "2022-12-01T10:45:56.255981",
          "status": "completed"
        },
        "tags": [],
        "id": "8d3b1988",
        "outputId": "a7b0ea0a-8fab-4e7f-934c-9bc234db8a84",
        "colab": {
          "base_uri": "https://localhost:8080/",
          "height": 36
        }
      },
      "outputs": [
        {
          "output_type": "execute_result",
          "data": {
            "text/plain": [
              "' uttarakhand man 39 held for killing constable’s wife in haldwani '"
            ],
            "application/vnd.google.colaboratory.intrinsic+json": {
              "type": "string"
            }
          },
          "metadata": {},
          "execution_count": 83
        }
      ],
      "source": [
        "df['heading'][0]"
      ]
    },
    {
      "cell_type": "code",
      "execution_count": 84,
      "id": "f0fb55f9",
      "metadata": {
        "execution": {
          "iopub.execute_input": "2022-12-01T10:45:57.828054Z",
          "iopub.status.busy": "2022-12-01T10:45:57.827241Z",
          "iopub.status.idle": "2022-12-01T10:45:57.842249Z",
          "shell.execute_reply": "2022-12-01T10:45:57.840882Z"
        },
        "papermill": {
          "duration": 0.538194,
          "end_time": "2022-12-01T10:45:57.845513",
          "exception": false,
          "start_time": "2022-12-01T10:45:57.307319",
          "status": "completed"
        },
        "tags": [],
        "id": "f0fb55f9",
        "outputId": "65050fd8-25df-43ef-ba6a-d8225bbbe0e8",
        "colab": {
          "base_uri": "https://localhost:8080/"
        }
      },
      "outputs": [
        {
          "output_type": "stream",
          "name": "stdout",
          "text": [
            " uttarakhand man held for killing constable’s wife in us nagar \n",
            " pune man held for killing wife \n",
            " man held after killing wife in front of children \n",
            " navi mumbai man held for killing wife 2 more arrested \n",
            " man wife held for killing niece in northeast delhi \n"
          ]
        }
      ],
      "source": [
        "#top 5 similar type of heading\n",
        "\n",
        "recommend(' uttarakhand man 39 held for killing constable’s wife in haldwani ')"
      ]
    },
    {
      "cell_type": "markdown",
      "id": "76bcafd4",
      "metadata": {
        "papermill": {
          "duration": 0.52617,
          "end_time": "2022-12-01T10:45:58.899366",
          "exception": false,
          "start_time": "2022-12-01T10:45:58.373196",
          "status": "completed"
        },
        "tags": [],
        "id": "76bcafd4"
      },
      "source": [
        "<div class=\"alert alert-info\" markdown=\"1\">\n",
        "\n",
        " Wow 🔥 we successfully build our article recommendation system . You could observe that now it is recommending top 5 related crime articles .\n",
        "\n",
        "</div>"
      ]
    },
    {
      "cell_type": "markdown",
      "id": "eab65103",
      "metadata": {
        "papermill": {
          "duration": 0.555457,
          "end_time": "2022-12-01T10:46:00.018824",
          "exception": false,
          "start_time": "2022-12-01T10:45:59.463367",
          "status": "completed"
        },
        "tags": [],
        "id": "eab65103"
      },
      "source": [
        "****"
      ]
    },
    {
      "cell_type": "markdown",
      "id": "d986da2d",
      "metadata": {
        "papermill": {
          "duration": 0.513792,
          "end_time": "2022-12-01T10:46:01.077997",
          "exception": false,
          "start_time": "2022-12-01T10:46:00.564205",
          "status": "completed"
        },
        "tags": [],
        "id": "d986da2d"
      },
      "source": [
        "## Below Cells are additional cells which are describing about recommend function"
      ]
    },
    {
      "cell_type": "code",
      "execution_count": 85,
      "id": "c6e773ba",
      "metadata": {
        "execution": {
          "iopub.execute_input": "2022-12-01T10:46:02.206482Z",
          "iopub.status.busy": "2022-12-01T10:46:02.205659Z",
          "iopub.status.idle": "2022-12-01T10:46:02.220596Z",
          "shell.execute_reply": "2022-12-01T10:46:02.219079Z"
        },
        "papermill": {
          "duration": 0.543502,
          "end_time": "2022-12-01T10:46:02.223350",
          "exception": false,
          "start_time": "2022-12-01T10:46:01.679848",
          "status": "completed"
        },
        "tags": [],
        "id": "c6e773ba",
        "outputId": "7c9f78e6-2f2d-42bd-d611-94b940bd292f",
        "colab": {
          "base_uri": "https://localhost:8080/"
        }
      },
      "outputs": [
        {
          "output_type": "stream",
          "name": "stdout",
          "text": [
            "[1012]\n",
            "[5901]\n",
            "[6968]\n",
            "[781]\n",
            "[4336]\n",
            "[6223]\n",
            "[3303]\n",
            "[6682]\n",
            "[94]\n",
            "[443]\n",
            "[6681]\n",
            "[109]\n",
            "[2682]\n",
            "[2979]\n"
          ]
        }
      ],
      "source": [
        "#internal things happening inside above function\n",
        "\n",
        "x=df[df[\"heading\"]==' uttarakhand man 39 held for killing constable’s wife in haldwani '].index[0]\n",
        "\n",
        "distances=similarity[x]\n",
        "\n",
        "heading_list=sorted(list(enumerate(distances)),reverse=True,key=lambda x:x[1])[1:15]\n",
        "\n",
        "heading_list\n",
        "\n",
        "for i in heading_list:\n",
        "    print([i[0]])"
      ]
    },
    {
      "cell_type": "code",
      "execution_count": 86,
      "id": "cc8d526f",
      "metadata": {
        "execution": {
          "iopub.execute_input": "2022-12-01T10:46:03.312645Z",
          "iopub.status.busy": "2022-12-01T10:46:03.311285Z",
          "iopub.status.idle": "2022-12-01T10:46:03.320550Z",
          "shell.execute_reply": "2022-12-01T10:46:03.319561Z"
        },
        "papermill": {
          "duration": 0.553244,
          "end_time": "2022-12-01T10:46:03.322837",
          "exception": false,
          "start_time": "2022-12-01T10:46:02.769593",
          "status": "completed"
        },
        "tags": [],
        "id": "cc8d526f",
        "outputId": "c4e65336-af2d-4e23-dd72-2b893ac35282",
        "colab": {
          "base_uri": "https://localhost:8080/",
          "height": 397
        }
      },
      "outputs": [
        {
          "output_type": "execute_result",
          "data": {
            "text/plain": [
              "heading                     bhopal two women molested by neighbours \n",
              "content_summary     A 28yearold woman was allegedly threatened an...\n",
              "article_link       https://timesofindia.indiatimes.com/city/bhopa...\n",
              "img_link           https://static.toiimg.com/thumb/imgsize-123456...\n",
              "month_date                                                    Nov 23\n",
              "time                                                           13:18\n",
              "Year                                                            2021\n",
              "heading_len                                                       42\n",
              "word_count                                                         6\n",
              "avg_word_len                                                5.833333\n",
              "Name: 2915, dtype: object"
            ],
            "text/html": [
              "<div>\n",
              "<style scoped>\n",
              "    .dataframe tbody tr th:only-of-type {\n",
              "        vertical-align: middle;\n",
              "    }\n",
              "\n",
              "    .dataframe tbody tr th {\n",
              "        vertical-align: top;\n",
              "    }\n",
              "\n",
              "    .dataframe thead th {\n",
              "        text-align: right;\n",
              "    }\n",
              "</style>\n",
              "<table border=\"1\" class=\"dataframe\">\n",
              "  <thead>\n",
              "    <tr style=\"text-align: right;\">\n",
              "      <th></th>\n",
              "      <th>2915</th>\n",
              "    </tr>\n",
              "  </thead>\n",
              "  <tbody>\n",
              "    <tr>\n",
              "      <th>heading</th>\n",
              "      <td>bhopal two women molested by neighbours</td>\n",
              "    </tr>\n",
              "    <tr>\n",
              "      <th>content_summary</th>\n",
              "      <td>A 28yearold woman was allegedly threatened an...</td>\n",
              "    </tr>\n",
              "    <tr>\n",
              "      <th>article_link</th>\n",
              "      <td>https://timesofindia.indiatimes.com/city/bhopa...</td>\n",
              "    </tr>\n",
              "    <tr>\n",
              "      <th>img_link</th>\n",
              "      <td>https://static.toiimg.com/thumb/imgsize-123456...</td>\n",
              "    </tr>\n",
              "    <tr>\n",
              "      <th>month_date</th>\n",
              "      <td>Nov 23</td>\n",
              "    </tr>\n",
              "    <tr>\n",
              "      <th>time</th>\n",
              "      <td>13:18</td>\n",
              "    </tr>\n",
              "    <tr>\n",
              "      <th>Year</th>\n",
              "      <td>2021</td>\n",
              "    </tr>\n",
              "    <tr>\n",
              "      <th>heading_len</th>\n",
              "      <td>42</td>\n",
              "    </tr>\n",
              "    <tr>\n",
              "      <th>word_count</th>\n",
              "      <td>6</td>\n",
              "    </tr>\n",
              "    <tr>\n",
              "      <th>avg_word_len</th>\n",
              "      <td>5.833333</td>\n",
              "    </tr>\n",
              "  </tbody>\n",
              "</table>\n",
              "</div><br><label><b>dtype:</b> object</label>"
            ]
          },
          "metadata": {},
          "execution_count": 86
        }
      ],
      "source": [
        "#Acessing information of an article by index\n",
        "df.iloc[2915]"
      ]
    },
    {
      "cell_type": "markdown",
      "id": "be519945",
      "metadata": {
        "papermill": {
          "duration": 0.519977,
          "end_time": "2022-12-01T10:46:04.367487",
          "exception": false,
          "start_time": "2022-12-01T10:46:03.847510",
          "status": "completed"
        },
        "tags": [],
        "id": "be519945"
      },
      "source": [
        "<div class=\"alert alert-info\" markdown=\"1\">\n",
        "Hope You enjoyed this session 😊\n",
        "\n",
        "</div>"
      ]
    },
    {
      "cell_type": "markdown",
      "id": "e1967c3a",
      "metadata": {
        "execution": {
          "iopub.execute_input": "2022-11-29T12:36:58.009419Z",
          "iopub.status.busy": "2022-11-29T12:36:58.008939Z",
          "iopub.status.idle": "2022-11-29T12:36:58.018432Z",
          "shell.execute_reply": "2022-11-29T12:36:58.016324Z",
          "shell.execute_reply.started": "2022-11-29T12:36:58.009383Z"
        },
        "papermill": {
          "duration": 0.517612,
          "end_time": "2022-12-01T10:46:05.402429",
          "exception": false,
          "start_time": "2022-12-01T10:46:04.884817",
          "status": "completed"
        },
        "tags": [],
        "id": "e1967c3a"
      },
      "source": [
        "### If you liked it then share your feedback & make an 👍 .\n",
        "### ✨Thank you ✨"
      ]
    },
    {
      "cell_type": "code",
      "metadata": {
        "colab": {
          "base_uri": "https://localhost:8080/",
          "height": 564
        },
        "id": "26583dec",
        "outputId": "2599cb3d-a532-40c3-aa86-477bd170980f"
      },
      "source": [
        "import matplotlib.pyplot as plt\n",
        "\n",
        "plt.figure(figsize=(10, 6))\n",
        "plt.plot(df.index, df['heading_len'], color='blue')\n",
        "plt.xlabel('Index')\n",
        "plt.ylabel('Heading Length')\n",
        "plt.title('Heading Length Distribution')\n",
        "plt.show()"
      ],
      "id": "26583dec",
      "execution_count": 88,
      "outputs": [
        {
          "output_type": "display_data",
          "data": {
            "text/plain": [
              "<Figure size 1000x600 with 1 Axes>"
            ],
            "image/png": "[encoded data removed]"
          },
          "metadata": {}
        }
      ]
    }
  ],
  "metadata": {
    "kernelspec": {
      "display_name": "Python 3",
      "language": "python",
      "name": "python3"
    },
    "language_info": {
      "codemirror_mode": {
        "name": "ipython",
        "version": 3
      },
      "file_extension": ".py",
      "mimetype": "text/x-python",
      "name": "python",
      "nbconvert_exporter": "python",
      "pygments_lexer": "ipython3",
      "version": "3.7.12"
    },
    "papermill": {
      "default_parameters": {},
      "duration": 72.915979,
      "end_time": "2022-12-01T10:46:08.278826",
      "environment_variables": {},
      "exception": null,
      "input_path": "__notebook__.ipynb",
      "output_path": "__notebook__.ipynb",
      "parameters": {},
      "start_time": "2022-12-01T10:44:55.362847",
      "version": "2.3.4"
    },
    "colab": {
      "provenance": [],
      "include_colab_link": true
    }
  },
  "nbformat": 4,
  "nbformat_minor": 5
}